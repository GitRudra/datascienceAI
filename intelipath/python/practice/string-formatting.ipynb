{
 "cells": [
  {
   "cell_type": "markdown",
   "metadata": {},
   "source": [
    "Formatted String Literal ( also called f-string in short ) allow an user to use python expression inside the string.\n",
    "Steps : \n",
    "1. Put f or F just begining of the string.\n",
    "2. keep in expression inside {}\n"
   ]
  },
  {
   "cell_type": "code",
   "execution_count": 12,
   "metadata": {},
   "outputs": [
    {
     "name": "stdout",
     "output_type": "stream",
     "text": [
      "The value of pi is 3.142\n",
      "Nainital   belongs to Uttarakhand    \n",
      "Raniketh   belongs to Uttarakhand    \n",
      "Tribeni    belongs to Uttar Pradesh  \n",
      "            Nainital\n",
      "            Raniketh\n",
      "             Tribeni\n"
     ]
    }
   ],
   "source": [
    "import math\n",
    "print(f'The value of pi is {math.pi:0.3f}')\n",
    "\n",
    "table = {'Nainital':'Uttarakhand','Raniketh':'Uttarakhand', 'Tribeni': 'Uttar Pradesh'}\n",
    "for place, state in table.items():\n",
    "    print(f'{place:10} belongs to {state:15}')\n",
    "\n",
    "# place = ''\n",
    "for place1, state1 in table.items():\n",
    "    print(place1.rjust(20))"
   ]
  },
  {
   "cell_type": "code",
   "execution_count": 14,
   "metadata": {},
   "outputs": [
    {
     "name": "stdout",
     "output_type": "stream",
     "text": [
      "3\n"
     ]
    }
   ],
   "source": [
    "x = lambda a, b: a//b\n",
    "print(x(10,3))"
   ]
  }
 ],
 "metadata": {
  "kernelspec": {
   "display_name": "base",
   "language": "python",
   "name": "python3"
  },
  "language_info": {
   "codemirror_mode": {
    "name": "ipython",
    "version": 3
   },
   "file_extension": ".py",
   "mimetype": "text/x-python",
   "name": "python",
   "nbconvert_exporter": "python",
   "pygments_lexer": "ipython3",
   "version": "3.11.5"
  }
 },
 "nbformat": 4,
 "nbformat_minor": 2
}

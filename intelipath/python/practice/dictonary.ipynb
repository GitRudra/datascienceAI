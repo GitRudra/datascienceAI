{
 "cells": [
  {
   "cell_type": "code",
   "execution_count": 1,
   "metadata": {},
   "outputs": [
    {
     "name": "stdout",
     "output_type": "stream",
     "text": [
      "leearn dictonary\n"
     ]
    }
   ],
   "source": [
    "print(\"leearn dictonary\")"
   ]
  },
  {
   "cell_type": "markdown",
   "metadata": {},
   "source": [
    "Basics of Dictonaries\n",
    "1. Diconaries are expressed as {}, mutable, \n",
    "2. We can index the dictionary by key to fetch and change the key's associated value.\n"
   ]
  },
  {
   "cell_type": "code",
   "execution_count": 9,
   "metadata": {},
   "outputs": [
    {
     "name": "stdout",
     "output_type": "stream",
     "text": [
      "{'name': 'rudra', 'age': 38, 'Married': True}\n",
      "name rudra\n",
      "age 38\n",
      "married True\n"
     ]
    }
   ],
   "source": [
    "sample = {'name':'rudra', 'age': 38, 'Married': True}\n",
    "print(sample)\n",
    "sample_dict = dict(name='rudra', age = 38, married = True)\n",
    "# print(sample_dict)\n",
    "\n",
    "zipping_dict = dict(zip(['name', 'age', 'married'], [{'first':'rudra', 'middle':'sekhar', 'last':'pal'}, 38, True]))\n",
    "# print(zipping_dict)\n",
    "\n",
    "#access value from dictionary\n",
    "# print(zipping_dict['name']['last'])\n",
    "\n",
    "# for key in sample_dict:\n",
    "    # print(key, sample_dict.get(key))\n",
    "    \n",
    "# print(zipping_dict.keys())\n",
    "# print(zipping_dict.values())\n",
    "# print(zipping_dict.items())\n",
    "\n",
    "for k,v in sample_dict.items():\n",
    "    print(k,v)\n",
    "    \n",
    "for _,v in sample_dict.items():\n",
    "    print(v)\n"
   ]
  },
  {
   "cell_type": "code",
   "execution_count": 1,
   "metadata": {},
   "outputs": [
    {
     "name": "stdout",
     "output_type": "stream",
     "text": [
      "{'name': {'first': 'rudra', 'middle': 'sekhar', 'last': 'pal'}, 'age': 38, 'married': True}\n"
     ]
    }
   ],
   "source": [
    "keys = ['name', 'age', 'married']\n",
    "values = [{'first': 'rudra', 'middle':'sekhar', 'last':'pal'}, 38, True]\n",
    "\n",
    "person = {}\n",
    "for i in range(len(keys)):\n",
    "    person[keys[i]] = values[i]\n",
    "print(person)"
   ]
  },
  {
   "cell_type": "markdown",
   "metadata": {},
   "source": [
    "Create a dictionary to store the family tree.\n",
    "Iterate over the dictionary for all the fileds.\n",
    "Print none if any filed not found."
   ]
  },
  {
   "cell_type": "code",
   "execution_count": 1,
   "metadata": {},
   "outputs": [
    {
     "name": "stdout",
     "output_type": "stream",
     "text": [
      "{'name': 'Priyanka', 'age': 36, 'gender': 'female', 'married': True, 'spouse': 'Rudra', 'has_child': True, 'child': {'name': 'Tajagna', 'age': 8, 'school': 'Canary The School'}} <class 'dict'>\n"
     ]
    }
   ],
   "source": [
    "person = {\n",
    "    'name':'Priyanka',\n",
    "    'age': 36,\n",
    "    'gender': 'female',\n",
    "    'married': True,\n",
    "    'spouse':'Rudra',\n",
    "    'has_child': True,\n",
    "    'child':{\n",
    "        'name': 'Tajagna',\n",
    "        'age': 8,\n",
    "        'school': 'Canary The School'\n",
    "    }\n",
    "}\n",
    "\n",
    "print(person, type(person))"
   ]
  },
  {
   "cell_type": "code",
   "execution_count": 10,
   "metadata": {},
   "outputs": [
    {
     "name": "stdout",
     "output_type": "stream",
     "text": [
      "True\n",
      "xxxxxxxx\n",
      "Canary The School\n"
     ]
    }
   ],
   "source": [
    "if not 'married' in person:\n",
    "    print('Key aadhar not found')\n",
    "else:\n",
    "    print(person['married'])\n",
    "    \n",
    "#The below method will return xxxxxxxx as value if the key 'aadhar' not found in the dictionary.\n",
    "\n",
    "value = person.get('aadhar','xxxxxxxx')\n",
    "print(value)\n",
    "\n",
    "#fetch the value for nested structure\n",
    "value = person.get('child', 'xxxxxxxx').get('school')\n",
    "print(value)"
   ]
  }
 ],
 "metadata": {
  "kernelspec": {
   "display_name": "base",
   "language": "python",
   "name": "python3"
  },
  "language_info": {
   "codemirror_mode": {
    "name": "ipython",
    "version": 3
   },
   "file_extension": ".py",
   "mimetype": "text/x-python",
   "name": "python",
   "nbconvert_exporter": "python",
   "pygments_lexer": "ipython3",
   "version": "0.0.0"
  }
 },
 "nbformat": 4,
 "nbformat_minor": 2
}

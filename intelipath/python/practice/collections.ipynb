{
 "cells": [
  {
   "cell_type": "code",
   "execution_count": null,
   "metadata": {},
   "outputs": [],
   "source": []
  },
  {
   "cell_type": "markdown",
   "metadata": {},
   "source": [
    "List->[], duplicates are allowed, Ordered/ Indexed, mutable"
   ]
  },
  {
   "cell_type": "code",
   "execution_count": 3,
   "metadata": {},
   "outputs": [
    {
     "name": "stdout",
     "output_type": "stream",
     "text": [
      "[] <class 'list'>\n",
      "[1, 2, 2, 3, 3]\n"
     ]
    }
   ],
   "source": [
    "#emplty list\n",
    "num = []\n",
    "print(num, type(num))\n",
    "\n",
    "#duplicates\n",
    "nums = [1,2,2,3,3]\n",
    "print(nums)"
   ]
  },
  {
   "cell_type": "code",
   "execution_count": 5,
   "metadata": {},
   "outputs": [
    {
     "name": "stdout",
     "output_type": "stream",
     "text": [
      "1 -> 140737446843176\n",
      "2 -> 140737446843208\n",
      "3 -> 140737446843240\n"
     ]
    }
   ],
   "source": [
    "nums = [1,2,3,4]\n",
    "print(f'{nums[0]} -> {id(nums[0])}')\n",
    "print(f'{nums[1]} -> {id(nums[1])}')\n",
    "print(f'{nums[2]} -> {id(nums[2])}')"
   ]
  },
  {
   "cell_type": "code",
   "execution_count": 8,
   "metadata": {},
   "outputs": [
    {
     "name": "stdout",
     "output_type": "stream",
     "text": [
      "10 10\n",
      "10 20\n",
      "[10, 20] [10, 20]\n",
      "[10, 20] [100, 20]\n"
     ]
    }
   ],
   "source": [
    "num = 10\n",
    "copy = num\n",
    "print(num,copy)\n",
    "copy = 20\n",
    "print(num, copy)\n",
    "\n",
    "num = [10,20]\n",
    "copy = num.copy()\n",
    "print(num, copy)\n",
    "copy[0] =  100\n",
    "print(num, copy)"
   ]
  },
  {
   "cell_type": "code",
   "execution_count": 25,
   "metadata": {},
   "outputs": [
    {
     "name": "stdout",
     "output_type": "stream",
     "text": [
      "['sachin', 'virat', 'dhoni', 'gambir', 'yuvi']\n",
      "['sachin', 'virat', 'dhoni', 'gambir'] yuvi\n",
      "['sachin', 'virat', 'gambir']\n",
      "['gill', 'sachin', 'virat', 'gambir', 'K L Raul']\n",
      "['K L Raul', 'gambir', 'virat', 'sachin', 'gill']\n",
      "['K L Raul', 'gambir', 'gill', 'sachin', 'virat']\n"
     ]
    }
   ],
   "source": [
    "players = ['sachin', 'virat', 'dhoni', 'gambir', 'yuvi']\n",
    "print(players)\n",
    "removed_player1 = players.pop()\n",
    "print(players, removed_player1)\n",
    "players.remove('dhoni')\n",
    "print(players)\n",
    "players.insert(0,'gill')\n",
    "players.insert(50,'K L Raul')\n",
    "print(players)\n",
    "\n",
    "players.reverse()\n",
    "print(players)\n",
    "players.sort()\n",
    "print(players)"
   ]
  },
  {
   "cell_type": "code",
   "execution_count": 31,
   "metadata": {},
   "outputs": [
    {
     "name": "stdout",
     "output_type": "stream",
     "text": [
      "['yuvi', 'gambir', 'Dhoni', 'virat', 'Sachin']\n",
      "['Dhoni', 'gambir', 'Sachin', 'virat', 'yuvi']\n"
     ]
    }
   ],
   "source": [
    "#Reverse\n",
    "players1 = ['Sachin', 'virat', 'Dhoni', 'gambir', 'yuvi']\n",
    "players1.reverse()\n",
    "print(players1)\n",
    "players1.sort(key=str.lower, reverse=False)\n",
    "print(players1)"
   ]
  },
  {
   "cell_type": "code",
   "execution_count": 1,
   "metadata": {},
   "outputs": [
    {
     "name": "stdout",
     "output_type": "stream",
     "text": [
      "(1, 2, 3, 4, 5, 1)\n"
     ]
    },
    {
     "ename": "TypeError",
     "evalue": "'tuple' object does not support item assignment",
     "output_type": "error",
     "traceback": [
      "\u001b[1;31m---------------------------------------------------------------------------\u001b[0m",
      "\u001b[1;31mTypeError\u001b[0m                                 Traceback (most recent call last)",
      "Cell \u001b[1;32mIn[1], line 3\u001b[0m\n\u001b[0;32m      1\u001b[0m nums \u001b[38;5;241m=\u001b[39m (\u001b[38;5;241m1\u001b[39m,\u001b[38;5;241m2\u001b[39m,\u001b[38;5;241m3\u001b[39m,\u001b[38;5;241m4\u001b[39m,\u001b[38;5;241m5\u001b[39m,\u001b[38;5;241m1\u001b[39m)\n\u001b[0;32m      2\u001b[0m \u001b[38;5;28mprint\u001b[39m(nums)\n\u001b[1;32m----> 3\u001b[0m nums[\u001b[38;5;241m0\u001b[39m] \u001b[38;5;241m=\u001b[39m \u001b[38;5;241m10\u001b[39m\n",
      "\u001b[1;31mTypeError\u001b[0m: 'tuple' object does not support item assignment"
     ]
    }
   ],
   "source": [
    "nums = (1,2,3,4,5,1)\n",
    "print(nums)\n",
    "nums[0] = 10"
   ]
  }
 ],
 "metadata": {
  "kernelspec": {
   "display_name": "base",
   "language": "python",
   "name": "python3"
  },
  "language_info": {
   "codemirror_mode": {
    "name": "ipython",
    "version": 3
   },
   "file_extension": ".py",
   "mimetype": "text/x-python",
   "name": "python",
   "nbconvert_exporter": "python",
   "pygments_lexer": "ipython3",
   "version": "3.11.5"
  }
 },
 "nbformat": 4,
 "nbformat_minor": 2
}

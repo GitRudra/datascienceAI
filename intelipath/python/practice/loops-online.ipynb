{
 "cells": [
  {
   "cell_type": "markdown",
   "metadata": {},
   "source": [
    "Loops"
   ]
  },
  {
   "cell_type": "code",
   "execution_count": null,
   "metadata": {},
   "outputs": [],
   "source": [
    "# range(start, end, step=1)\n",
    "print(list(range(1,10)))\n",
    "\n",
    "print(list(range(5))) # end value and start = 0\n",
    "\n",
    "print(list(range(0,10,2)))\n",
    "\n",
    "print(list(range(0, 10, -1)))\n",
    "\n",
    "print(list(range(10, 0, -1)))"
   ]
  },
  {
   "cell_type": "code",
   "execution_count": null,
   "metadata": {},
   "outputs": [],
   "source": [
    "for num in range(1,11):\n",
    "    print(num)\n",
    "    \n",
    "for num in range(10,0,-1):\n",
    "    print(num)"
   ]
  },
  {
   "cell_type": "code",
   "execution_count": null,
   "metadata": {},
   "outputs": [],
   "source": [
    "# Any data which can be loopeed is called iterables\n",
    "# Example : string, list, tuple, set, dictionary\n",
    "name = 'Rudra'\n",
    "for char in name:\n",
    "    print(char)\n",
    "    \n",
    "nums = {10,20,30, 12.5,23,True, 'Hello'}\n",
    "for a in nums:\n",
    "    print(a)"
   ]
  },
  {
   "cell_type": "code",
   "execution_count": null,
   "metadata": {},
   "outputs": [],
   "source": [
    "num =2\n",
    "for i in range(num):\n",
    "    print(' '* (num-i), '*'*i)"
   ]
  },
  {
   "cell_type": "code",
   "execution_count": null,
   "metadata": {},
   "outputs": [],
   "source": [
    "while True:\n",
    "    command = input(\"Enter command...\")\n",
    "    if command == 'add':\n",
    "        print('Adding ....')\n",
    "    elif command == 'sub':\n",
    "        print('Subtracting....')\n",
    "    elif command =='exit':\n",
    "        print('Exiting....')\n",
    "        print('tata bye bye')\n",
    "        break\n",
    "    else:\n",
    "        print('Command not found')"
   ]
  },
  {
   "cell_type": "markdown",
   "metadata": {},
   "source": [
    "List comprehension & builtin function on sequence.\n",
    "The list of builtin function on sequence is available in https://docs.python.org/3/library/functions.html"
   ]
  },
  {
   "cell_type": "code",
   "execution_count": null,
   "metadata": {},
   "outputs": [],
   "source": [
    "M = [[1,2,3],[4,5,6],[7,8,9]]\n",
    "G = (sum(row) for row in M)\n",
    "#next(G)\n",
    "for i in M:\n",
    "    print(next(G))\n",
    "print(map(sum, M))"
   ]
  }
 ],
 "metadata": {
  "kernelspec": {
   "display_name": "base",
   "language": "python",
   "name": "python3"
  },
  "language_info": {
   "codemirror_mode": {
    "name": "ipython",
    "version": 3
   },
   "file_extension": ".py",
   "mimetype": "text/x-python",
   "name": "python",
   "nbconvert_exporter": "python",
   "pygments_lexer": "ipython3",
   "version": "3.11.5"
  }
 },
 "nbformat": 4,
 "nbformat_minor": 2
}

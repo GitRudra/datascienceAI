{
 "cells": [
  {
   "cell_type": "code",
   "execution_count": 2,
   "metadata": {},
   "outputs": [
    {
     "name": "stdout",
     "output_type": "stream",
     "text": [
      "60\n"
     ]
    }
   ],
   "source": [
    "from Module import addition\n",
    "print(addition(10, 20,30))"
   ]
  },
  {
   "cell_type": "code",
   "execution_count": null,
   "metadata": {},
   "outputs": [],
   "source": [
    "import Module as m"
   ]
  },
  {
   "cell_type": "code",
   "execution_count": 4,
   "metadata": {},
   "outputs": [
    {
     "name": "stdout",
     "output_type": "stream",
     "text": [
      "78\n"
     ]
    }
   ],
   "source": [
    "#greates of giving number\n",
    "\n",
    "nums = [25, 45, 78, 34, 56,6]\n",
    "max_num = nums[0]\n",
    "for i in range(1, len(nums)):\n",
    "    if(nums[i] > max_num):\n",
    "        max_num = nums[i]\n",
    "print(max_num)"
   ]
  },
  {
   "cell_type": "code",
   "execution_count": 6,
   "metadata": {},
   "outputs": [
    {
     "name": "stdout",
     "output_type": "stream",
     "text": [
      "[3, 5, 1]\n",
      "3 -> 27\n",
      "5 -> 152\n",
      "1 -> 153\n",
      "True\n",
      "True\n"
     ]
    },
    {
     "ename": "AttributeError",
     "evalue": "module 'MathConcept' has no attribute 'is_prime'",
     "output_type": "error",
     "traceback": [
      "\u001b[1;31m---------------------------------------------------------------------------\u001b[0m",
      "\u001b[1;31mAttributeError\u001b[0m                            Traceback (most recent call last)",
      "Cell \u001b[1;32mIn[6], line 4\u001b[0m\n\u001b[0;32m      2\u001b[0m \u001b[38;5;28mprint\u001b[39m(mc\u001b[38;5;241m.\u001b[39marmstrong(\u001b[38;5;241m153\u001b[39m))\n\u001b[0;32m      3\u001b[0m \u001b[38;5;28mprint\u001b[39m(mc\u001b[38;5;241m.\u001b[39marmstrong1(\u001b[38;5;241m153\u001b[39m))\n\u001b[1;32m----> 4\u001b[0m \u001b[38;5;28mprint\u001b[39m(mc\u001b[38;5;241m.\u001b[39mis_prime(\u001b[38;5;241m9\u001b[39m))\n",
      "\u001b[1;31mAttributeError\u001b[0m: module 'MathConcept' has no attribute 'is_prime'"
     ]
    }
   ],
   "source": [
    "import MathConcept as mc\n",
    "print(mc.armstrong(153))\n",
    "print(mc.armstrong1(153))\n",
    "print(mc.is_prime(9))"
   ]
  }
 ],
 "metadata": {
  "kernelspec": {
   "display_name": "base",
   "language": "python",
   "name": "python3"
  },
  "language_info": {
   "codemirror_mode": {
    "name": "ipython",
    "version": 3
   },
   "file_extension": ".py",
   "mimetype": "text/x-python",
   "name": "python",
   "nbconvert_exporter": "python",
   "pygments_lexer": "ipython3",
   "version": "3.11.5"
  }
 },
 "nbformat": 4,
 "nbformat_minor": 2
}

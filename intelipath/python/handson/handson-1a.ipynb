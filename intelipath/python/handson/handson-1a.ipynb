{
 "cells": [
  {
   "cell_type": "markdown",
   "metadata": {},
   "source": [
    "1. Create a python file named Module.\n",
    "a. Inside the file, define 4 methods named – addition, subtraction, multiplication,\n",
    "and division.\n",
    "b. Each method should only accept 2 arguments and should return the result of the\n",
    "operation performed in each method. For e.g., addition() should return the sum of\n",
    "two arguments.\n",
    "c. Save the Module file in .py format"
   ]
  },
  {
   "cell_type": "markdown",
   "metadata": {},
   "source": [
    "2. Open a new python file and import the Module.py file.\n",
    "a. Now call the 4 methods from the Module.py file, i.e., addition(), subtraction(),\n",
    "multiplication(), and division()."
   ]
  },
  {
   "cell_type": "code",
   "execution_count": null,
   "metadata": {},
   "outputs": [],
   "source": [
    "import Module as module\n",
    "# print(module.addition(10,20))\n",
    "# print(module.subtract(30,10,15))\n",
    "# print(module.multiplication(10,30))\n",
    "# print(module.division(30,10))\n",
    "\n",
    "print(module.generate_number(0,500,19))\n",
    "\n",
    "nums = [1,2,3,4,5,6,7,8,9,10]\n",
    "n = len(nums)\n",
    "print(module.traverse_array_reverse_direction(nums, 5-n, -2))\n",
    "\n",
    "num = 10\n",
    "print(num.__ge__(15))"
   ]
  },
  {
   "cell_type": "markdown",
   "metadata": {},
   "source": [
    "For the given strings A = “Python Programming Language”, B = “Best in the World” , perform\n",
    "the following operations.\n",
    "l. Using indexing operations, get the text “gram” from the string A.\n",
    "m. Using indexing operations, get the text “World” from the string B.\n",
    "n. Change the letters in both strings to Uppercase letters.\n",
    "o. Concatenate the two strings."
   ]
  },
  {
   "cell_type": "code",
   "execution_count": 10,
   "metadata": {},
   "outputs": [
    {
     "name": "stdout",
     "output_type": "stream",
     "text": [
      "gram\n",
      "17\n",
      "World\n",
      "python programming language\n",
      "best in the world\n",
      "Python Programming Language Best in the World\n"
     ]
    }
   ],
   "source": [
    "A = \"Python Programming Language\"\n",
    "B = \"Best in the World\"\n",
    "\n",
    "print(A[10:14])\n",
    "print(len(B))\n",
    "print(B[12:])\n",
    "print(A.lower())\n",
    "print(B.lower())\n",
    "\n",
    "print(A+' '+B)\n",
    "\n"
   ]
  },
  {
   "cell_type": "markdown",
   "metadata": {},
   "source": [
    "Create a nested dictionary and perform the following operations.\n",
    "h. Return a list with the key value pairs from the dictionary.\n",
    "i. Return a list with just the keys from the dictionary.\n",
    "j. Remove the first and last key value from the dictionary.\n",
    "k. Update the last key value pair in the dictionary after removing in the 3rd step."
   ]
  },
  {
   "cell_type": "code",
   "execution_count": 21,
   "metadata": {},
   "outputs": [
    {
     "name": "stdout",
     "output_type": "stream",
     "text": [
      "List with key value pair ---> dict_items([('parents', {'father': {'name': 'Mrinal Kanti Pal', 'age': 72}, 'mother': {'name': 'Rupali Pal', 'age': 64}}), ('parent-in-law', {'father': {'name': 'Priyatosh Chatterjee', 'age': 71}, 'mother': {'name': 'Rina Chatterjee', 'age': 60}}), ('spouse', {'name': 'Priyanka Chatterjee', 'age': 36}), ('child', {'daughter': {'name': 'Tajagna Pal', 'age': 8}})])\n",
      "List with key ---> dict_keys(['parents', 'parent-in-law', 'spouse', 'child'])\n",
      "['parents', 'parent-in-law', 'spouse', 'child']\n",
      "Last key item :  {'daughter': {'name': 'Tajagna Pal', 'age': 8}}\n",
      "{'parents': {'father': {'name': 'Mrinal Kanti Pal', 'age': 72}, 'mother': {'name': 'Rupali Pal', 'age': 64}}, 'parent-in-law': {'father': {'name': 'Priyatosh Chatterjee', 'age': 71}, 'mother': {'name': 'Rina Chatterjee', 'age': 60}}, 'spouse': {'name': 'Priyanka Chatterjee', 'age': 36}, 'child': {'daughter': {'name': 'Tajagna Pal', 'age': 9}}}\n"
     ]
    }
   ],
   "source": [
    "family = {\n",
    "    'parents':{'father':{'name':'Mrinal Kanti Pal', 'age':72}, 'mother':{'name':'Rupali Pal', 'age':64}},\n",
    "    'parent-in-law':{'father':{'name':'Priyatosh Chatterjee', 'age':71}, 'mother':{'name':'Rina Chatterjee', 'age':60}},\n",
    "    'spouse':{'name':'Priyanka Chatterjee', 'age':36},\n",
    "    'child':{'daughter':{'name':'Tajagna Pal', 'age':8}}     \n",
    "    }\n",
    "# Return a list with the key value pairs from the dictionary\n",
    "print('List with key value pair','--->', family.items())\n",
    "\n",
    "# Return a list with just the keys from the dictionary.\n",
    "print('List with key','--->', family.keys())\n",
    "\n",
    "# Remove the first and last key value from the dictionary.\n",
    "# print(\"Iterator on Dictionary : \", next(iter(family)))\n",
    "# k = next(iter(family))\n",
    "# print('Removed first item ----> ',family.pop(k))\n",
    "# print(family)\n",
    "\n",
    "# print('Removed last item ---- > ', family.popitem())\n",
    "# print(family)\n",
    "\n",
    "# Update the last key value pair in the dictionary after removing in the 3rd step.\n",
    "# Step1 Get the last key from dictionary\n",
    "print(list(family)) # Returns the list of key in the dictionary\n",
    "last_key = list(family)[-1]\n",
    "print('Last key item : ', family[last_key])\n",
    "family[last_key] = {'daughter': {'name': 'Tajagna Pal', 'age': 9}}\n",
    "print(family)\n",
    "\n",
    "# print(family.get('parents').get('father'))"
   ]
  }
 ],
 "metadata": {
  "kernelspec": {
   "display_name": "base",
   "language": "python",
   "name": "python3"
  },
  "language_info": {
   "codemirror_mode": {
    "name": "ipython",
    "version": 3
   },
   "file_extension": ".py",
   "mimetype": "text/x-python",
   "name": "python",
   "nbconvert_exporter": "python",
   "pygments_lexer": "ipython3",
   "version": "3.11.5"
  }
 },
 "nbformat": 4,
 "nbformat_minor": 2
}

{
 "cells": [
  {
   "cell_type": "code",
   "execution_count": 2,
   "metadata": {},
   "outputs": [
    {
     "name": "stdout",
     "output_type": "stream",
     "text": [
      "[1 3]\n",
      "\n"
     ]
    }
   ],
   "source": [
    "import numpy as np\n",
    "\n",
    "nums = np.array([1,2,3,4,5])\n",
    "print(nums[0:4:2])\n",
    "print()"
   ]
  },
  {
   "cell_type": "markdown",
   "metadata": {},
   "source": [
    "Slicing in 2D araay"
   ]
  },
  {
   "cell_type": "code",
   "execution_count": null,
   "metadata": {},
   "outputs": [],
   "source": [
    "nums = np.array(\n",
    "    [[11,12,13,14,15,16,17,18, 19, 20],\n",
    "     [21,22,23,24,25,26,27,28, 29, 30]]\n",
    ")\n",
    "\n",
    "# print(nums[0][1:5])\n",
    "# print(nums[1][1:5])\n",
    "# print(nums[1, 1:5])\n",
    "# print(nums[0:1]) --> Print first \n",
    "# print(nums[0 : 2, 3:6])\n",
    "print(nums[:, 3:6])\n",
    "# print(nums[-1 :: -1])\n",
    "# print(nums[:: -1])\n",
    "print(nums[-2])\n",
    "\n"
   ]
  },
  {
   "cell_type": "code",
   "execution_count": null,
   "metadata": {},
   "outputs": [],
   "source": [
    "#Reshape\n",
    "nums = np.array([1,2,3,4,5,6,7,8])\n",
    "print(nums.reshape(8,1))\n",
    "print(nums.reshape(2,4))"
   ]
  },
  {
   "cell_type": "code",
   "execution_count": 4,
   "metadata": {},
   "outputs": [
    {
     "name": "stdout",
     "output_type": "stream",
     "text": [
      "[ 1  2  3  4  5  6  7  8 11 12 13 14 15 16 17 18]\n",
      "[[ 1  2  3  4  5  6  7  8]\n",
      " [11 12 13 14 15 16 17 18]]\n"
     ]
    }
   ],
   "source": [
    "nums1 = np.array([1,2,3,4,5,6,7,8])\n",
    "nums2 = np.array([11,12,13,14,15,16,17,18])\n",
    "print(np.hstack([nums1, nums2]))\n",
    "\n",
    "print(np.vstack([nums1, nums2]))"
   ]
  },
  {
   "cell_type": "markdown",
   "metadata": {},
   "source": [
    "Splitting data"
   ]
  },
  {
   "cell_type": "code",
   "execution_count": 9,
   "metadata": {},
   "outputs": [
    {
     "name": "stdout",
     "output_type": "stream",
     "text": [
      "[[11 12 13 14 15]\n",
      " [21 22 23 24 25]\n",
      " [31 32 33 34 35]\n",
      " [41 42 43 44 45]\n",
      " [51 52 53 54 55]\n",
      " [61 62 63 64 65]]\n"
     ]
    }
   ],
   "source": [
    "nums = np.array(\n",
    "    [[11,12,13,14,15,16,17,18, 19, 20],\n",
    "     [21,22,23,24,25,26,27,28, 29, 30],\n",
    "     [31,32,33,34,35,36,37,38, 39, 40],\n",
    "     [41,42,43,44,45,46,47,48, 49, 50],\n",
    "     [51,52,53,54,55,56,57,58, 59, 60],\n",
    "     [61,62,63,64,65,66,67,69, 69, 70]\n",
    "    ]\n",
    ")\n",
    "\n",
    "np.vsplit(nums,2)\n",
    "hsplitted_array = np.hsplit(nums,2)\n",
    "print(hsplitted_array[0])"
   ]
  }
 ],
 "metadata": {
  "kernelspec": {
   "display_name": "base",
   "language": "python",
   "name": "python3"
  },
  "language_info": {
   "codemirror_mode": {
    "name": "ipython",
    "version": 3
   },
   "file_extension": ".py",
   "mimetype": "text/x-python",
   "name": "python",
   "nbconvert_exporter": "python",
   "pygments_lexer": "ipython3",
   "version": "3.11.5"
  }
 },
 "nbformat": 4,
 "nbformat_minor": 2
}

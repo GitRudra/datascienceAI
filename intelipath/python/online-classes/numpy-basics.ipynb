{
 "cells": [
  {
   "cell_type": "code",
   "execution_count": null,
   "metadata": {},
   "outputs": [],
   "source": [
    "import numpy as np\n",
    "print(np.__version__)"
   ]
  },
  {
   "cell_type": "code",
   "execution_count": null,
   "metadata": {},
   "outputs": [],
   "source": [
    "list_nums = [10, 20, 30, 40, 50, 10.58]\n",
    "np_array = np.array(list_nums, dtype='int64')\n",
    "print(np_array)\n",
    "print(type(np_array), np_array.dtype)\n",
    "print(np_array.shape)\n",
    "print(np_array.itemsize)\n",
    "print(np_array.ndim)\n",
    "print(np_array.size, len(np_array))"
   ]
  },
  {
   "cell_type": "code",
   "execution_count": null,
   "metadata": {},
   "outputs": [],
   "source": [
    "list_nums = np.arange(0,15,3)\n",
    "print(list_nums, list_nums.dtype)\n",
    "print(list_nums[-1], list_nums[-2], list_nums[-3], list_nums[-4], list_nums[-5])"
   ]
  },
  {
   "cell_type": "code",
   "execution_count": null,
   "metadata": {},
   "outputs": [],
   "source": [
    "list_nums = [\n",
    "    [\n",
    "        [1,0,0,0,0],\n",
    "        [0,1,0,0,0]\n",
    "    ],\n",
    "     [\n",
    "        [0,0,1,0,0],\n",
    "        [0,0,26,1,0]\n",
    "    ],\n",
    "      [\n",
    "        [0,0,0,0,1],\n",
    "        [1,1,1,1,1]\n",
    "    ]\n",
    "]\n",
    "\n",
    "np_array = np.array(list_nums, dtype='int64')\n",
    "print(np_array)\n",
    "print(type(np_array), np_array.dtype)\n",
    "print(np_array.shape)\n",
    "print(np_array.itemsize)\n",
    "print(np_array.ndim)\n",
    "print(np_array.size, len(np_array))\n",
    "\n",
    "print(np_array[1][1][2])"
   ]
  },
  {
   "cell_type": "code",
   "execution_count": 8,
   "metadata": {},
   "outputs": [
    {
     "name": "stdout",
     "output_type": "stream",
     "text": [
      "[[0 0 0 0 0 0]\n",
      " [0 0 0 0 0 0]\n",
      " [0 0 0 0 0 0]\n",
      " [0 0 0 0 0 0]\n",
      " [0 0 0 0 0 0]\n",
      " [0 0 0 0 0 0]]\n",
      "[[1 0 0 0 0]\n",
      " [0 1 0 0 0]\n",
      " [0 0 1 0 0]\n",
      " [0 0 0 1 0]\n",
      " [0 0 0 0 1]]\n"
     ]
    }
   ],
   "source": [
    "# Zero matrix\n",
    "zero_matrix = np.zeros((6,6), dtype='int64')\n",
    "print(zero_matrix)\n",
    "\n",
    "identity = np.identity(5, dtype='int32')\n",
    "print(identity)"
   ]
  }
 ],
 "metadata": {
  "kernelspec": {
   "display_name": "base",
   "language": "python",
   "name": "python3"
  },
  "language_info": {
   "codemirror_mode": {
    "name": "ipython",
    "version": 3
   },
   "file_extension": ".py",
   "mimetype": "text/x-python",
   "name": "python",
   "nbconvert_exporter": "python",
   "pygments_lexer": "ipython3",
   "version": "3.11.5"
  }
 },
 "nbformat": 4,
 "nbformat_minor": 2
}

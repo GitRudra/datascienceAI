{
 "cells": [
  {
   "cell_type": "code",
   "execution_count": 87,
   "id": "6de96c6e",
   "metadata": {},
   "outputs": [
    {
     "name": "stdout",
     "output_type": "stream",
     "text": [
      "150\n",
      "-20\n"
     ]
    }
   ],
   "source": [
    "# Basics - hands-on\n",
    "\n",
    "\n",
    "# 1. Create a python file named Module.\n",
    "# a. Inside the file, define 4 methods named – addition, subtraction, multiplication,\n",
    "# and division.\n",
    "# b. Each method should only accept 2 arguments and should return the result of the\n",
    "# operation performed in each method. For e.g., addition() should return the sum of\n",
    "# two arguments.\n",
    "# c. Save the Module file in .py format.\n",
    "# 2. Open a new python file and import the Module.py file.\n",
    "# a. Now call the 4 methods from the Module.py file, i.e., addition(), subtraction(),\n",
    "# multiplication(), and division().\n",
    "\n",
    "# 3. From the Module file, import only the addition() and pass the arguments so that it can\n",
    "# display the result from the method.\n",
    "# 4. From the Module file, import only the subtraction() and pass the arguments so that it can\n",
    "# display the result from the method.\n",
    "# 5. From the Module file, import both the multiplication() and division() and pass the\n",
    "# arguments so that it can display the result from the methods.\n",
    "\n",
    "from module import add, sub\n",
    "\n",
    "print(add(50, 30, 70))\n",
    "print(sub(40, 60))"
   ]
  },
  {
   "cell_type": "code",
   "execution_count": 19,
   "id": "13fdc12b",
   "metadata": {},
   "outputs": [
    {
     "name": "stdout",
     "output_type": "stream",
     "text": [
      "78 3\n"
     ]
    }
   ],
   "source": [
    "# 6. Create a python if-else program to check if the given numbers are greater or not, also\n",
    "# check whether the given number is an armstrong number or not, and check whether the\n",
    "# given number is a prime number or not. Make use of python if-else, and elif statements\n",
    "# for the same.\n",
    "\n",
    "# greatest and smallest of given nums\n",
    "nums = [3, 25, 45, 78, 34, 56, 6]\n",
    "# print(max(nums))\n",
    "\n",
    "# solution 2:\n",
    "# curr_max = nums[0]\n",
    "# for num in nums:\n",
    "#     if(num > curr_max):\n",
    "#         curr_max = num\n",
    "# print(curr_max)\n",
    "\n",
    "# curr_min = nums[0]\n",
    "# for num in nums:\n",
    "#     if(num < curr_min):\n",
    "#         curr_min = num\n",
    "# print(curr_min)\n",
    "\n",
    "# solution 3:\n",
    "curr_max = nums[0]\n",
    "curr_min = nums[0]\n",
    "\n",
    "for num in nums:\n",
    "    if(num > curr_max):\n",
    "        curr_max = num\n",
    "        \n",
    "    if(num < curr_min):\n",
    "        curr_min = num\n",
    "        \n",
    "print(curr_max, curr_min)\n"
   ]
  },
  {
   "cell_type": "code",
   "execution_count": 21,
   "id": "97e9b47f",
   "metadata": {},
   "outputs": [
    {
     "name": "stdout",
     "output_type": "stream",
     "text": [
      "78 56\n"
     ]
    }
   ],
   "source": [
    "# second largest\n",
    "nums = [3, 25, 45, 78, 34, 56, 6]\n",
    "maximum = nums[0]\n",
    "sec_max = nums[0]\n",
    "\n",
    "for num in nums:\n",
    "    if(maximum < num):\n",
    "        sec_max = maximum\n",
    "        maximum = num\n",
    "    elif(sec_max < num):\n",
    "        sec_max = num\n",
    "\n",
    "print(maximum, sec_max)"
   ]
  },
  {
   "cell_type": "code",
   "execution_count": 35,
   "id": "7e9e5e4b",
   "metadata": {},
   "outputs": [
    {
     "name": "stdout",
     "output_type": "stream",
     "text": [
      "Enter the number to be checked: 456\n",
      "not an armstrong number\n"
     ]
    }
   ],
   "source": [
    "# armstrong number\n",
    "# 153 = 1**3 + 5**3 + 3**3 = 1 + 125 + 27 = 153 # armstrong number\n",
    "# 24 = 2**2 + 4**2 = 4 + 16 = 20 # not an armstrong number\n",
    "\n",
    "num = int(input('Enter the number to be checked: '))\n",
    "\n",
    "# solution 1:\n",
    "# str_num = str(num)\n",
    "# total = 0\n",
    "# digits = len(str_num)\n",
    "# for digit in str_num:\n",
    "#     total += int(digit) ** digits\n",
    "\n",
    "# # print(total, num)\n",
    "# if(total == num):\n",
    "#     print('armstrong number')\n",
    "# else:\n",
    "#     print('not an armstrong number')\n",
    "\n",
    "# solution 2:\n",
    "original_num = num\n",
    "total = 0\n",
    "power = len(str(num))\n",
    "\n",
    "while(num > 0):\n",
    "    digit = num % 10\n",
    "#     print('last digit', digit)\n",
    "    total += digit ** power\n",
    "    num = num // 10\n",
    "#     print('curr num', num)\n",
    "    \n",
    "# print(total, original_num)\n",
    "if(total == original_num):\n",
    "    print('armstrong number')\n",
    "else:\n",
    "    print('not an armstrong number')"
   ]
  },
  {
   "cell_type": "code",
   "execution_count": 56,
   "id": "16cf4e69",
   "metadata": {},
   "outputs": [
    {
     "name": "stdout",
     "output_type": "stream",
     "text": [
      "Enter the num to be checked: 999999937\n",
      "prime number\n"
     ]
    }
   ],
   "source": [
    "# prime or not\n",
    "num = int(input('Enter the num to be checked: '))\n",
    "\n",
    "if(num < 1):\n",
    "    print('invalid')\n",
    "else:\n",
    "    is_prime = True\n",
    "    for i in range(2, (num // 2) + 1):\n",
    "        if(num % i == 0):\n",
    "            is_prime = False\n",
    "            break\n",
    "    if(is_prime):\n",
    "        print('prime number')\n",
    "    else:\n",
    "        print('not a prime number')"
   ]
  },
  {
   "cell_type": "code",
   "execution_count": 134,
   "id": "91c5d4b1",
   "metadata": {},
   "outputs": [
    {
     "name": "stdout",
     "output_type": "stream",
     "text": [
      "Enter the num to be checked: 9\n",
      "not a prime number\n"
     ]
    }
   ],
   "source": [
    "import math\n",
    "\n",
    "num = int(input('Enter the num to be checked: '))\n",
    "\n",
    "if(num < 1):\n",
    "    print('invalid')\n",
    "else:\n",
    "    is_prime = True\n",
    "    for i in range(2, math.ceil(math.sqrt(num)) + 1):\n",
    "        if(num % i == 0):\n",
    "            is_prime = False\n",
    "            break\n",
    "    if(is_prime):\n",
    "        print('prime number')\n",
    "    else:\n",
    "        print('not a prime number')"
   ]
  },
  {
   "cell_type": "code",
   "execution_count": 65,
   "id": "aa883732",
   "metadata": {},
   "outputs": [
    {
     "name": "stdout",
     "output_type": "stream",
     "text": [
      "Enter num1: 10\n",
      "Enter num2: 12\n",
      "Enter the command: adfasa\n",
      "invalid command. please try again\n"
     ]
    }
   ],
   "source": [
    "# 7. Create a calculator program for addition, subtraction, multiplication and floor division.\n",
    "# Take the inputs from the user, and based on the choice of operation, return the results.\n",
    "\n",
    "num1 = int(input('Enter num1: '))\n",
    "num2 = int(input('Enter num2: '))\n",
    "command = input('Enter the command: ')\n",
    "command = command.lower()\n",
    "\n",
    "if(command == 'add'):\n",
    "    print(num1 + num2)\n",
    "elif(command == 'sub'):\n",
    "    print(num1 - num2)\n",
    "else:\n",
    "    print('invalid command. please try again')"
   ]
  },
  {
   "cell_type": "code",
   "execution_count": 69,
   "id": "c5f4e943",
   "metadata": {},
   "outputs": [
    {
     "name": "stdout",
     "output_type": "stream",
     "text": [
      "1 1 2 3 5 8 13 21 34 55 89 144 233 377 610 987 1597 2584 4181 6765 "
     ]
    }
   ],
   "source": [
    "#  8. Create a fibonacci sequence using python if-else statements.\n",
    "# 1, 1, 2, 3, 5, 8, 13, 21, 34.....\n",
    "# 4, 5, 9, 14, 23, 37.....\n",
    "\n",
    "# first 20 fibonacci numbers\n",
    "num = 20\n",
    "n1 = 1\n",
    "n2 = 1\n",
    "\n",
    "print(n1, n2, end = ' ')\n",
    "\n",
    "while(num > 2):\n",
    "    temp = n1\n",
    "    n1 = n2\n",
    "    n2 = temp + n2\n",
    "    print(n2, end = ' ')\n",
    "    num -= 1\n"
   ]
  },
  {
   "cell_type": "code",
   "execution_count": 75,
   "id": "c85f7c84",
   "metadata": {},
   "outputs": [
    {
     "name": "stdout",
     "output_type": "stream",
     "text": [
      "1 1 2 3 5 8 13 21 34 "
     ]
    }
   ],
   "source": [
    "# print fibonacci numbers upto num = 50\n",
    "num = 50\n",
    "n1 = 1\n",
    "n2 = 1\n",
    "\n",
    "print(n1, n2, end = ' ')\n",
    "\n",
    "while(num > (n1 + n2)):\n",
    "    temp = n1\n",
    "    n1 = n2\n",
    "    n2 = temp + n2\n",
    "    print(n2, end = ' ')\n",
    "    num -= 1\n"
   ]
  },
  {
   "cell_type": "code",
   "execution_count": null,
   "id": "c04fc8e9",
   "metadata": {},
   "outputs": [],
   "source": [
    "# 9. Create a nested dictionary with values as a nested list for each key in the dictionary.\n",
    "\n",
    "person = {\n",
    "    \"name\": \"Rajini\",\n",
    "    \"cars\": ['bmw', 'audi'],\n",
    "    \"daughter\": {\n",
    "        \"name\": \"Aishwarya\",\n",
    "        \"husband\": \"dhanush\"\n",
    "    }\n",
    "}"
   ]
  },
  {
   "cell_type": "code",
   "execution_count": 78,
   "id": "08c9ceb7",
   "metadata": {},
   "outputs": [
    {
     "name": "stdout",
     "output_type": "stream",
     "text": [
      "{1, 2, 3, 4, 5, 6}\n",
      "{3, 4}\n"
     ]
    }
   ],
   "source": [
    "# 10. Create two sets and perform the following:\n",
    "# a. Union of the two sets\n",
    "# b. Intersection of the two sets\n",
    "\n",
    "set1 = {1, 2, 3, 4}\n",
    "set2 = {3, 4, 5, 6}\n",
    "\n",
    "print(set1.union(set2))\n",
    "print(set1.intersection(set2))"
   ]
  },
  {
   "cell_type": "code",
   "execution_count": 81,
   "id": "d1092bd5",
   "metadata": {},
   "outputs": [
    {
     "name": "stdout",
     "output_type": "stream",
     "text": [
      "dict_items([('product', 'iphone'), ('price', 70000), ('ram', '6gb')])\n"
     ]
    }
   ],
   "source": [
    "# 11. Create a nested tuple from the dictionary, with each item in the tuple as a key value pair\n",
    "# from the dictionary.\n",
    "\n",
    "data = {\n",
    "    \"product\": \"iphone\",\n",
    "    \"price\": 70000,\n",
    "    \"ram\": \"6gb\"\n",
    "}\n",
    "\n",
    "# keys\n",
    "# print(data.keys())\n",
    "\n",
    "# values\n",
    "# print(data.values())\n",
    "\n",
    "# items\n",
    "print(data.items())"
   ]
  },
  {
   "cell_type": "code",
   "execution_count": 82,
   "id": "431961b9",
   "metadata": {},
   "outputs": [
    {
     "name": "stdout",
     "output_type": "stream",
     "text": [
      "[2, 4, 6, 8, 10, 12, 14, 16, 18, 20, 22, 24, 26, 28, 30, 32, 34, 36, 38, 40, 42, 44, 46, 48, 50]\n"
     ]
    }
   ],
   "source": [
    "# 12. Create a list of the first 50 even natural numbers, and perform the following operations.\n",
    "\n",
    "# c. Count the number of elements in the list.\n",
    "# d. Reverse the sequence of the list.\n",
    "# e. Sort the list in ascending and descending order.\n",
    "# f. Get the index value for the element 44, and update the element with the number\n",
    "# 100.\n",
    "# g. Return a copy of the list, with the resulting list containing the square of each\n",
    "\n",
    "even_nums = []\n",
    "for i in range(1, 51):\n",
    "    if(i % 2 == 0):\n",
    "        even_nums.append(i)\n",
    "print(even_nums)"
   ]
  },
  {
   "cell_type": "code",
   "execution_count": 95,
   "id": "bba5f078",
   "metadata": {},
   "outputs": [
    {
     "name": "stdout",
     "output_type": "stream",
     "text": [
      "[4, 16, 36, 64, 100, 144, 196, 256, 324, 400, 484, 576, 676, 784, 900, 1024, 1156, 1296, 1444, 1600, 1764, 1936, 2116, 2304, 2500, 2704, 2916, 3136, 3364, 3600, 3844, 4096, 4356, 4624, 4900, 5184, 5476, 5776, 6084, 6400, 6724, 7056, 7396, 7744, 8100, 8464, 8836, 9216, 9604, 10000]\n"
     ]
    }
   ],
   "source": [
    "even_nums = []\n",
    "count = 50\n",
    "start = 1\n",
    "\n",
    "if(start % 2 != 0):\n",
    "    start += 1\n",
    "\n",
    "while(count > 0):\n",
    "    if(start % 2 == 0):\n",
    "        even_nums.append(start)\n",
    "        count -= 1\n",
    "    start += 2\n",
    "\n",
    "# print(even_nums)\n",
    "\n",
    "# print('count:', len(even_nums))\n",
    "# print('reverse', even_nums[::-1])\n",
    "# even_nums.sort()\n",
    "# print('asc', even_nums)\n",
    "# even_nums.sort(reverse=True)\n",
    "# print('desc', even_nums)\n",
    "\n",
    "# sq_nums = []\n",
    "# for num in even_nums:\n",
    "#     sq_nums.append(num ** 2)\n",
    "# print(sq_nums)\n",
    "\n",
    "print([num**2 for num in even_nums])"
   ]
  },
  {
   "cell_type": "code",
   "execution_count": 113,
   "id": "74617792",
   "metadata": {},
   "outputs": [
    {
     "name": "stdout",
     "output_type": "stream",
     "text": [
      "{'name': 'vasanth', 'details': {'location': 'chennai', 'age': 10}, 'car': 'i20'}\n"
     ]
    }
   ],
   "source": [
    "# 13. Create a nested dictionary and perform the following operations.\n",
    "# h. Return a list with the key value pairs from the dictionary.\n",
    "# i. Return a list with just the keys from the dictionary.\n",
    "# j. Remove the first and last key value from the dictionary.\n",
    "# k. Update the last key value pair in the dictionary after removing in the 3rd step.\n",
    "\n",
    "data = {\n",
    "    \"name\": \"vasanth\",\n",
    "    \"details\": {\n",
    "        \"location\": \"chennai\",\n",
    "        \"age\": 10\n",
    "    },\n",
    "    \"car\" : \"i20\"\n",
    "}\n",
    "\n",
    "# print(data)\n",
    "# print(data.items())\n",
    "# print(data.keys())\n",
    "\n",
    "# data.pop('car')\n",
    "# data.pop('name')\n",
    "\n",
    "# data['details'] = 'Unknown'\n",
    "\n",
    "print(data)"
   ]
  },
  {
   "cell_type": "code",
   "execution_count": 118,
   "id": "1e72a9de",
   "metadata": {},
   "outputs": [
    {
     "name": "stdout",
     "output_type": "stream",
     "text": [
      "gram\n",
      "World\n",
      "PYTHON PROGRAMMING LANGUAGE BEST IN THE WORLD\n",
      "PYTHON PROGRAMMING LANGUAGE BEST IN THE WORLD\n"
     ]
    }
   ],
   "source": [
    "# 14. For the given strings A = “Python Programming Language”, B = “Best in the World” , perform\n",
    "# the following operations.\n",
    "\n",
    "# l. Using indexing operations, get the text “gram” from the string A.\n",
    "# m. Using indexing operations, get the text “World” from the string B.\n",
    "# n. Change the letters in both strings to Uppercase letters.\n",
    "# o. Concatenate the two strings.\n",
    "\n",
    "\n",
    "A = \"Python Programming Language\"\n",
    "B = \"Best in the World\"\n",
    "\n",
    "print(A[10:14])\n",
    "print(B[-5:])\n",
    "A = A.upper()\n",
    "B = B.upper()\n",
    "print(A, B)\n",
    "\n",
    "print(f'{A} {B}')"
   ]
  },
  {
   "cell_type": "code",
   "execution_count": 123,
   "id": "98b1505a",
   "metadata": {},
   "outputs": [],
   "source": [
    "# JOIN -> list to string"
   ]
  },
  {
   "cell_type": "code",
   "execution_count": 125,
   "id": "28f979bf",
   "metadata": {},
   "outputs": [
    {
     "name": "stdout",
     "output_type": "stream",
     "text": [
      "[60, 70, 80, 90]\n"
     ]
    }
   ],
   "source": [
    "# 15. Create a list with n numbers, and using negative indexing return the list starting from the 5th\n",
    "# index to the n-2th index.\n",
    "\n",
    "nums = [10, 20, 30, 40, 50, 60, 70, 80, 90, 100]\n",
    "print(nums[5:-1])"
   ]
  },
  {
   "cell_type": "code",
   "execution_count": 128,
   "id": "cc231e58",
   "metadata": {},
   "outputs": [
    {
     "name": "stdout",
     "output_type": "stream",
     "text": [
      "[5, 10, 15, 20, 25, 30, 35, 40, 45, 50, 55, 60, 65, 70, 75, 80, 85, 90, 95]\n",
      "19\n"
     ]
    }
   ],
   "source": [
    "# 16. Using range(), create a list with numbers ranging from 5-100, and the number of elements\n",
    "# should be exactly 19.\n",
    "\n",
    "print(list(range(5, 100, 5)))\n",
    "print(len(list(range(5, 100, 5))))"
   ]
  },
  {
   "cell_type": "code",
   "execution_count": 133,
   "id": "06041c63",
   "metadata": {},
   "outputs": [
    {
     "name": "stdout",
     "output_type": "stream",
     "text": [
      "[1, 3, 5, 7, 11, 13, 17, 19, 23, 29, 31, 37, 41, 43, 47, 53, 59, 61, 67, 71, 73, 79, 83, 89, 97]\n"
     ]
    }
   ],
   "source": [
    "# prime numbers in range\n",
    "\n",
    "def is_prime(num):\n",
    "    if(num < 1):\n",
    "        return 'invalid'\n",
    "    else:\n",
    "        for i in range(2, math.ceil(math.sqrt(num)) + 1):\n",
    "            if(num % i == 0):\n",
    "                return False\n",
    "        return True\n",
    "\n",
    "num = 100\n",
    "prime_nos = []\n",
    "for i in range(1, num):\n",
    "    if(is_prime(i)):\n",
    "        prime_nos.append(i)\n",
    "        \n",
    "print(prime_nos)\n"
   ]
  },
  {
   "cell_type": "code",
   "execution_count": 132,
   "id": "ebc56ceb",
   "metadata": {},
   "outputs": [
    {
     "name": "stdout",
     "output_type": "stream",
     "text": [
      "False\n"
     ]
    }
   ],
   "source": [
    "def is_prime(num):\n",
    "    if(num < 1):\n",
    "        return 'invalid'\n",
    "    else:\n",
    "        for i in range(2, math.ceil(math.sqrt(num))+1):\n",
    "            if(num % i == 0):\n",
    "                return False\n",
    "        return True\n",
    "    \n",
    "print(is_prime(9))"
   ]
  },
  {
   "cell_type": "code",
   "execution_count": null,
   "id": "59f4c9a0",
   "metadata": {},
   "outputs": [],
   "source": []
  },
  {
   "cell_type": "code",
   "execution_count": null,
   "id": "902ba181",
   "metadata": {},
   "outputs": [],
   "source": []
  },
  {
   "cell_type": "code",
   "execution_count": null,
   "id": "09f81d9c",
   "metadata": {},
   "outputs": [],
   "source": []
  },
  {
   "cell_type": "code",
   "execution_count": null,
   "id": "aabf0a70",
   "metadata": {},
   "outputs": [],
   "source": []
  }
 ],
 "metadata": {
  "kernelspec": {
   "display_name": "Python 3 (ipykernel)",
   "language": "python",
   "name": "python3"
  },
  "language_info": {
   "codemirror_mode": {
    "name": "ipython",
    "version": 3
   },
   "file_extension": ".py",
   "mimetype": "text/x-python",
   "name": "python",
   "nbconvert_exporter": "python",
   "pygments_lexer": "ipython3",
   "version": "3.11.4"
  }
 },
 "nbformat": 4,
 "nbformat_minor": 5
}

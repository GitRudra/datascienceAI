{
 "cells": [
  {
   "cell_type": "code",
   "execution_count": 70,
   "id": "41c88fcf",
   "metadata": {},
   "outputs": [
    {
     "name": "stdout",
     "output_type": "stream",
     "text": [
      "4567846704\n",
      "4567850608\n",
      "['amit', 'thomas', 'tej', 'swetha', 'tej']\n"
     ]
    }
   ],
   "source": [
    "# COLLECTIONS -> List, Tuple, Set, Dictionary\n",
    "\n",
    "# List -> [], duplicates are allowed, ordered/indexed, mutable\n",
    "\n",
    "# Empty list\n",
    "# nums = [] # list()\n",
    "# print(nums, type(nums))\n",
    "\n",
    "# nums = [1, 2, 3, 2] # duplicates are allowed\n",
    "# print(nums)\n",
    "\n",
    "# indexed\n",
    "names = ['abhi', 'thomas', 'tej', 'swetha', 'tej']\n",
    "# print(names[0], names[1], names[2], names[3], names[4], names[5])\n",
    "# print(names[-1], names[-2], names[-3], names[-4])\n",
    "\n",
    "# print(id(names[0]))\n",
    "names[0] = 'amit' # mutable\n",
    "# print(id(names[0]))\n",
    "print(names)"
   ]
  },
  {
   "cell_type": "code",
   "execution_count": 22,
   "id": "beff66fc",
   "metadata": {},
   "outputs": [
    {
     "name": "stdout",
     "output_type": "stream",
     "text": [
      "[10, 20, 30] 4567859904\n",
      "10 -> 4341949632\n",
      "20 -> 4341949952\n",
      "30 -> 4341950272\n"
     ]
    }
   ],
   "source": [
    "# nums = [10, 20, 30]\n",
    "# print(nums, id(nums))\n",
    "\n",
    "# print(f'{nums[0]} -> {id(nums[0])}')\n",
    "# print(f'{nums[1]} -> {id(nums[1])}')\n",
    "# print(f'{nums[2]} -> {id(nums[2])}')"
   ]
  },
  {
   "cell_type": "code",
   "execution_count": 28,
   "id": "685ce37e",
   "metadata": {},
   "outputs": [
    {
     "name": "stdout",
     "output_type": "stream",
     "text": [
      "[10, 20] [10, 20]\n",
      "[10, 20] [100, 20]\n"
     ]
    }
   ],
   "source": [
    "# num = 10\n",
    "# copy = num\n",
    "# print(num, copy)\n",
    "# copy = 20\n",
    "# print(num, copy)\n",
    "\n",
    "nums = [10, 20]\n",
    "copy = nums.copy()\n",
    "print(nums, copy)\n",
    "copy[0] = 100\n",
    "print(nums, copy)"
   ]
  },
  {
   "cell_type": "code",
   "execution_count": 42,
   "id": "732dec37",
   "metadata": {},
   "outputs": [
    {
     "name": "stdout",
     "output_type": "stream",
     "text": [
      "[]\n"
     ]
    }
   ],
   "source": [
    "# methods \n",
    "players = ['virat', 'sachin', 'dhoni', 'gambir', 'yuvi', 'virat']\n",
    "# print(players)\n",
    "\n",
    "# pop -> removes last data by default\n",
    "# removed_player = players.pop()\n",
    "# print(players, removed_player)\n",
    "# players.pop()\n",
    "# print(players)\n",
    "\n",
    "# index\n",
    "# index_tobe_removed = players.index('dhoni')\n",
    "# # print(index_tobe_removed)\n",
    "# players.pop(index_tobe_removed)\n",
    "# print(players)\n",
    "\n",
    "# remove\n",
    "# players.remove('dhoni')\n",
    "# print(players)\n",
    "\n",
    "# clear -> removes all the data\n",
    "# players.clear()\n",
    "# print(players)"
   ]
  },
  {
   "cell_type": "code",
   "execution_count": 54,
   "id": "81775d78",
   "metadata": {},
   "outputs": [
    {
     "name": "stdout",
     "output_type": "stream",
     "text": [
      "['hardik', 'virat', 'sachin', 'dhoni', 'gambir', 'yuvi']\n"
     ]
    }
   ],
   "source": [
    "players = ['virat', 'sachin', 'dhoni', 'gambir', 'yuvi']\n",
    "\n",
    "# append -> always add data at last position\n",
    "# players.append('raina')\n",
    "# print(players)\n",
    "\n",
    "# insert(position, value)\n",
    "# players.insert(0, 'gill')\n",
    "# players.insert(50, 'hardik')\n",
    "# players.insert(-10, 'hardik')\n",
    "print(players)"
   ]
  },
  {
   "cell_type": "code",
   "execution_count": 57,
   "id": "11129540",
   "metadata": {},
   "outputs": [
    {
     "name": "stdout",
     "output_type": "stream",
     "text": [
      "[1, 2, 3, 4] [4, 3, 2, 1]\n"
     ]
    }
   ],
   "source": [
    "# reversal\n",
    "nums = [1, 2, 3, 4]\n",
    "# nums.reverse() # it affects my original data -> inplace\n",
    "\n",
    "# reversed_nums =  nums[::-1] # returns data in new memory\n",
    "# print(nums, reversed_nums)"
   ]
  },
  {
   "cell_type": "code",
   "execution_count": 66,
   "id": "e829a7e9",
   "metadata": {},
   "outputs": [
    {
     "name": "stdout",
     "output_type": "stream",
     "text": [
      "['Zaheer', 'Shami', 'bumrah', 'bajji']\n"
     ]
    }
   ],
   "source": [
    "# sort\n",
    "# nums = [10, 40, 78, 85, 25, 7, 19, -8]\n",
    "# nums.sort() # ascending order\n",
    "# nums.sort(reverse=False) # ascending order\n",
    "\n",
    "# nums.sort(reverse=True) # descending order\n",
    "# print(nums)\n",
    "\n",
    "names = ['bumrah', 'Shami', 'Zaheer', 'bajji']\n",
    "# names.sort(key=str.lower) # str.upper\n",
    "names.sort(key=str.lower, reverse=True)\n",
    "print(names)"
   ]
  },
  {
   "cell_type": "code",
   "execution_count": 69,
   "id": "0fb77841",
   "metadata": {},
   "outputs": [
    {
     "name": "stdout",
     "output_type": "stream",
     "text": [
      "2\n",
      "0\n"
     ]
    }
   ],
   "source": [
    "# count\n",
    "names = ['ram', 'sam', 'sam']\n",
    "print(names.count('sam'))\n",
    "print(names.count('Sam')) # case sensitive"
   ]
  },
  {
   "cell_type": "code",
   "execution_count": 75,
   "id": "1e7b9091",
   "metadata": {},
   "outputs": [
    {
     "name": "stdout",
     "output_type": "stream",
     "text": [
      "OHHO\n"
     ]
    }
   ],
   "source": [
    "# Palindrome -> RACECAR, NITIN, MADAM, MAM, DAD, MOM......\n",
    "\n",
    "# shortest palindrome\n",
    "name = 'ZOHO'\n",
    "name = list(name)\n",
    "# OHHO\n",
    "\n",
    "start = 0\n",
    "end = len(name) - 1\n",
    "\n",
    "while(start <= end):\n",
    "    if(name[start] > name[end]):\n",
    "        name[start] = name[end]\n",
    "    else:\n",
    "        name[end] = name[start]\n",
    "        \n",
    "    start += 1\n",
    "    end -= 1\n",
    "print(''.join(name))"
   ]
  },
  {
   "cell_type": "code",
   "execution_count": 86,
   "id": "07accd5c",
   "metadata": {},
   "outputs": [],
   "source": [
    "# tuple -> (), duplicates are allowed, indexed, immutable\n",
    "\n",
    "# only read-only ops are supported\n",
    "\n",
    "# empty tuple\n",
    "# nums = () # tuple()\n",
    "# print(nums, type(nums))\n",
    "\n",
    "# nums = (1, 2, 3, 4, 2) # duplicates are allowed\n",
    "# print(nums)\n",
    "# print(nums[0], nums[1], nums[2])\n",
    "# print(nums[-1], nums[-2], nums[-3]) # indexed\n",
    "\n",
    "\n",
    "# nums = (1, 2, 3)\n",
    "# nums[0] = 10 # typeError -> immutability"
   ]
  },
  {
   "cell_type": "code",
   "execution_count": 90,
   "id": "cd8558c5",
   "metadata": {},
   "outputs": [
    {
     "name": "stdout",
     "output_type": "stream",
     "text": [
      "4\n"
     ]
    }
   ],
   "source": [
    "# count\n",
    "# nums = (1, 2, 3, 4, 3, 3, 3, 'vasi')\n",
    "# print(nums.count(3))\n",
    "# print(len(nums))"
   ]
  },
  {
   "cell_type": "code",
   "execution_count": 97,
   "id": "e728bdef",
   "metadata": {},
   "outputs": [
    {
     "ename": "TypeError",
     "evalue": "'set' object is not subscriptable",
     "output_type": "error",
     "traceback": [
      "\u001b[0;31m---------------------------------------------------------------------------\u001b[0m",
      "\u001b[0;31mTypeError\u001b[0m                                 Traceback (most recent call last)",
      "Cell \u001b[0;32mIn[97], line 10\u001b[0m\n\u001b[1;32m      8\u001b[0m nums \u001b[38;5;241m=\u001b[39m {\u001b[38;5;241m10\u001b[39m, \u001b[38;5;241m20\u001b[39m, \u001b[38;5;241m20\u001b[39m, \u001b[38;5;241m30\u001b[39m, \u001b[38;5;241m40\u001b[39m, \u001b[38;5;241m30\u001b[39m}\n\u001b[1;32m      9\u001b[0m \u001b[38;5;66;03m# print(nums) # duplicates are not allowed\u001b[39;00m\n\u001b[0;32m---> 10\u001b[0m \u001b[38;5;28mprint\u001b[39m(nums[\u001b[38;5;241m0\u001b[39m])\n",
      "\u001b[0;31mTypeError\u001b[0m: 'set' object is not subscriptable"
     ]
    }
   ],
   "source": [
    "# Set -> {}, duplicates are NOT allowed, NOT indexed, mutable\n",
    "\n",
    "# empty set\n",
    "# nums = set()\n",
    "# print(nums, type(nums))\n",
    "\n",
    "\n",
    "nums = {10, 20, 20, 30, 40, 30}\n",
    "# print(nums) # duplicates are not allowed\n",
    "print(nums[0]) # not indexed -> unordered"
   ]
  },
  {
   "cell_type": "code",
   "execution_count": 105,
   "id": "ec5797ae",
   "metadata": {},
   "outputs": [
    {
     "name": "stdout",
     "output_type": "stream",
     "text": [
      "{'vasi', 1, 2, 3, 4, 10.5}\n"
     ]
    }
   ],
   "source": [
    "# add\n",
    "# nums = {1, 2, 3}\n",
    "# nums.add(4)\n",
    "# nums.add(2) # no duplicates\n",
    "# print(nums)\n",
    "\n",
    "# remove # not recommended\n",
    "# nums = {1, 2, 3, 4, 'vasi', 10.5}\n",
    "# nums.remove(3)\n",
    "# nums.remove(30) # KeyError\n",
    "# print(nums)\n",
    "\n",
    "# discard -> recommended\n",
    "nums = {1, 2, 3, 4, 'vasi', 10.5}\n",
    "# nums.discard(3)\n",
    "nums.discard(30)\n",
    "print(nums)"
   ]
  },
  {
   "cell_type": "code",
   "execution_count": 112,
   "id": "0fa24420",
   "metadata": {},
   "outputs": [
    {
     "name": "stdout",
     "output_type": "stream",
     "text": [
      "True\n",
      "True\n"
     ]
    }
   ],
   "source": [
    "set1 = {1, 2, 3, 4}\n",
    "set2 = {3, 4, 5, 6}\n",
    "\n",
    "# print(set1.union(set2))\n",
    "# print(set2.union(set1))\n",
    "# print(set1.intersection(set2))\n",
    "# print(set2.intersection(set1))\n",
    "# print(set1.difference(set2))\n",
    "# print(set2.difference(set1))\n",
    "\n",
    "# A = {1, 2, 3, 4, 5}\n",
    "# B = {2, 3}\n",
    "# print(B.issubset(A))\n",
    "# print(A.issuperset(B))"
   ]
  },
  {
   "cell_type": "code",
   "execution_count": 129,
   "id": "bf148fd3",
   "metadata": {},
   "outputs": [
    {
     "name": "stdout",
     "output_type": "stream",
     "text": [
      "rajini 72 India\n"
     ]
    }
   ],
   "source": [
    "# dictionary -> key value pairs -> {}\n",
    "\n",
    "# empty dict\n",
    "# data = {}  # dict() \n",
    "# print(data, type(data))\n",
    "\n",
    "person = {\n",
    "    \"name\": \"rajini\",\n",
    "    \"age\": 72,\n",
    "}\n",
    "\n",
    "# print(person, type(person))\n",
    "# print(person['name'], person['age'], person['place']) # not recommended\n",
    "# recommended -> get(key, 'default value')\n",
    "# print(person.get('name'), person.get('age'), person.get('place', 'India'))"
   ]
  },
  {
   "cell_type": "code",
   "execution_count": 131,
   "id": "9217db0c",
   "metadata": {},
   "outputs": [
    {
     "name": "stdout",
     "output_type": "stream",
     "text": [
      "{'name': 'rajini', 'age': 75, 'place': 'chennai'}\n"
     ]
    }
   ],
   "source": [
    "person = {\n",
    "    \"name\": \"rajini\",\n",
    "    \"age\": 72,\n",
    "}\n",
    " \n",
    "person['age'] = 75 # modification\n",
    "person['place'] = 'chennai' # create a new entry\n",
    "print(person)"
   ]
  },
  {
   "cell_type": "code",
   "execution_count": 145,
   "id": "c7946697",
   "metadata": {},
   "outputs": [
    {
     "name": "stdout",
     "output_type": "stream",
     "text": [
      "[{'name': 'rajini', 'age': 72, 'daughter': {'name': 'Aishwarya', 'husband': 'Dhanush'}, 'cars': ['lambo', 'bmw', 'mercedez', 'honda'], 'movie': {'name': 'jailer', 'director': 'nelson'}}]\n"
     ]
    }
   ],
   "source": [
    "person = {\n",
    "    \"name\": \"rajini\",\n",
    "    \"age\": 72,\n",
    "    \"daughter\": {\n",
    "        \"name\": \"Aishwarya\",\n",
    "        \"husband\": \"Dhanush\"\n",
    "    },\n",
    "}\n",
    "\n",
    "# print(person)\n",
    "# print(person.get(\"daughter\").get(\"husband\"))\n",
    "\n",
    "cars = ['lambo', 'bmw', 'mercedez']\n",
    "person['cars'] = cars\n",
    "\n",
    "rajini_cars = person.get('cars')\n",
    "rajini_cars.append('honda')\n",
    "# print(person)\n",
    "# print(cars)\n",
    "\n",
    "person['movie'] = {\n",
    "    'name': 'jailer',\n",
    "    'director': 'nelson'\n",
    "}\n",
    "\n",
    "# print(person)\n",
    "\n",
    "data = []\n",
    "data.append(person)\n",
    "data.append(person)\n",
    "print(data)"
   ]
  },
  {
   "cell_type": "code",
   "execution_count": null,
   "id": "b27754c1",
   "metadata": {},
   "outputs": [],
   "source": []
  },
  {
   "cell_type": "code",
   "execution_count": null,
   "id": "6f4862f8",
   "metadata": {},
   "outputs": [],
   "source": []
  },
  {
   "cell_type": "code",
   "execution_count": null,
   "id": "e88f5764",
   "metadata": {},
   "outputs": [],
   "source": []
  },
  {
   "cell_type": "code",
   "execution_count": null,
   "id": "9748b056",
   "metadata": {},
   "outputs": [],
   "source": []
  },
  {
   "cell_type": "code",
   "execution_count": null,
   "id": "004b185d",
   "metadata": {},
   "outputs": [],
   "source": []
  },
  {
   "cell_type": "code",
   "execution_count": null,
   "id": "d8f358aa",
   "metadata": {},
   "outputs": [],
   "source": []
  }
 ],
 "metadata": {
  "kernelspec": {
   "display_name": "Python 3 (ipykernel)",
   "language": "python",
   "name": "python3"
  },
  "language_info": {
   "codemirror_mode": {
    "name": "ipython",
    "version": 3
   },
   "file_extension": ".py",
   "mimetype": "text/x-python",
   "name": "python",
   "nbconvert_exporter": "python",
   "pygments_lexer": "ipython3",
   "version": "3.11.4"
  }
 },
 "nbformat": 4,
 "nbformat_minor": 5
}

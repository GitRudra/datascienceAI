{
 "cells": [
  {
   "cell_type": "code",
   "execution_count": 20,
   "id": "4c8e1740",
   "metadata": {},
   "outputs": [],
   "source": [
    "# bitwise operators -> &, |, ^, <<, >>, ~\n",
    "\n",
    "# & -> Bitwise AND\n",
    "# print(13 & 7)\n",
    "# print(21 & 18)\n",
    "\n",
    "# | -> Bitwise OR\n",
    "# print(13 | 7)\n",
    "# print(21 | 18)\n",
    "\n",
    "# ^ -> Bitwise XOR\n",
    "# print(13 ^ 7)\n",
    "\n",
    "# << -> left shift \n",
    "# print(3 << 1)\n",
    "# print(3 << 2)\n",
    "# print(3 << 3) # left * 2^right\n",
    "# print(140 << 7)\n",
    "\n",
    "# >> -> right shift\n",
    "# print(8 >> 1)\n",
    "# print(8 >> 2)\n",
    "# print(8 >> 3)\n",
    "# print(8 >> 4) # left // 2^right\n",
    "# print(127 >> 3)\n",
    "\n",
    "\n",
    "# ~ -> negation -> changes first bit\n",
    "# print(~0)\n",
    "# print(~10)\n",
    "# print(~-10)"
   ]
  },
  {
   "cell_type": "code",
   "execution_count": 37,
   "id": "abd7dbdf",
   "metadata": {},
   "outputs": [
    {
     "name": "stdout",
     "output_type": "stream",
     "text": [
      "\n",
      "SELECT * FROM CARS \n",
      "WHERE mileage > 20\n",
      "\n"
     ]
    }
   ],
   "source": [
    "# strings -> '', \"\", \"\"\" \"\"\" or ''' '''\n",
    "# print('vasi')\n",
    "# print(\"vasi\")\n",
    "\n",
    "# Sachin tendulkar is a 'good' cricketer\n",
    "# print(\"Sachin tendulkar is a 'good' cricketer\")\n",
    "\n",
    "# Sachin tendulkar is a \"good\" cricketer\n",
    "# print('Sachin tendulkar is a \"good\" cricketer')\n",
    "\n",
    "# 'Sachin tendulkar' is a \"good\" cricketer\n",
    "# print(\"\"\" 'Sachin tendulkar' is a \"good\" cricketer \"\"\")\n",
    "# print(''' 'Sachin tendulkar' is a \"good\" cricketer ''')\n",
    "\n",
    "\n",
    "# multilines -> \"\"\" \"\"\" or ''' '''\n",
    "# SELECT * FROM CARS\n",
    "# WHERE mileage > 20\n",
    "print(\"\"\"\n",
    "SELECT * FROM CARS \n",
    "WHERE mileage > 20\n",
    "\"\"\")"
   ]
  },
  {
   "cell_type": "code",
   "execution_count": 56,
   "id": "2a86a483",
   "metadata": {},
   "outputs": [],
   "source": [
    "first_name = 'Vasanthkumar'\n",
    "last_name = 'Vinayagam'\n",
    "\n",
    "# Vasanthkumar Vinayagam is a good boy\n",
    "# print(first_name + \" \" + last_name + \" is a good boy\")\n",
    "\n",
    "# formatted strings -> f\n",
    "# print(f'{first_name} {last_name} is a good boy')"
   ]
  },
  {
   "cell_type": "code",
   "execution_count": 62,
   "id": "cf122e33",
   "metadata": {},
   "outputs": [
    {
     "name": "stdout",
     "output_type": "stream",
     "text": [
      "Age: dhskjas\n",
      "name:  10\n",
      "age:  dhskjas\n"
     ]
    }
   ],
   "source": [
    "# user input\n",
    "name: str = input(\"Name: \")\n",
    "age: int = input(\"Age: \")\n",
    "print('name: ', name)\n",
    "print('age: ', age)"
   ]
  },
  {
   "cell_type": "code",
   "execution_count": 67,
   "id": "717d2cde",
   "metadata": {},
   "outputs": [
    {
     "name": "stdout",
     "output_type": "stream",
     "text": [
      "Enter Num1: 10\n",
      "Enter Num2: 15\n",
      "before <class 'str'> <class 'str'>\n",
      "after <class 'int'> <class 'int'>\n",
      "25\n"
     ]
    }
   ],
   "source": [
    "num1 = input('Enter Num1: ')\n",
    "num2 = input('Enter Num2: ')\n",
    "\n",
    "# by default input -> str\n",
    "print('before', type(num1), type(num2))\n",
    "\n",
    "num1 = int(num1)\n",
    "num2 = int(num2)\n",
    "print('after', type(num1), type(num2))\n",
    "\n",
    "print(num1 + num2)"
   ]
  },
  {
   "cell_type": "code",
   "execution_count": 70,
   "id": "eb6ca016",
   "metadata": {},
   "outputs": [],
   "source": [
    "# num1 = int(input('Enter Num1: '))\n",
    "# num2 = int(input('Enter Num2: '))\n",
    "\n",
    "# print(type(num1), type(num2))\n",
    "\n",
    "# print(num1 + num2)"
   ]
  },
  {
   "cell_type": "code",
   "execution_count": 73,
   "id": "4cc379bd",
   "metadata": {},
   "outputs": [
    {
     "name": "stdout",
     "output_type": "stream",
     "text": [
      "10\n"
     ]
    }
   ],
   "source": [
    "# length of string\n",
    "game = 'spider man'\n",
    "print(len(game)) # 10 chars"
   ]
  },
  {
   "cell_type": "code",
   "execution_count": 89,
   "id": "15c0bfef",
   "metadata": {},
   "outputs": [
    {
     "name": "stdout",
     "output_type": "stream",
     "text": [
      "SAM 4408274416\n"
     ]
    }
   ],
   "source": [
    "name = 'SAM'\n",
    "print(name, id(name))\n",
    "\n",
    "# index -> starts from 0\n",
    "# print(name[0], id(name[0]))\n",
    "# print(name[1], id(name[1]))\n",
    "# print(name[2], id(name[2]))\n",
    "# print(name[3]) # Index Error\n",
    "\n",
    "# print(name[-1], name[-2], name[-3], name[-4])"
   ]
  },
  {
   "cell_type": "code",
   "execution_count": 102,
   "id": "e5303c37",
   "metadata": {},
   "outputs": [
    {
     "name": "stdout",
     "output_type": "stream",
     "text": [
      "https://google.\n"
     ]
    }
   ],
   "source": [
    "# Methods of strings\n",
    "# name = 'VasiKumAr'\n",
    "# print(name.upper())\n",
    "# print(name.lower())\n",
    "# print(name.capitalize())\n",
    "\n",
    "# strip\n",
    "game = '          god of war      '\n",
    "# print(game, len(game))\n",
    "# print(game.strip(), len(game.strip())) # by default -> \" \"\n",
    "# print(game.lstrip(), len(game.lstrip()))\n",
    "# print(game.rstrip(), len(game.rstrip()))\n",
    "\n",
    "url = 'https://google.com/'\n",
    "print(url.strip('/'))"
   ]
  },
  {
   "cell_type": "code",
   "execution_count": 108,
   "id": "849872ab",
   "metadata": {},
   "outputs": [
    {
     "name": "stdout",
     "output_type": "stream",
     "text": [
      "['V', 's', 'nth kum', 'r']\n"
     ]
    }
   ],
   "source": [
    "# split -> str to list\n",
    "name = 'Vasanth kumar'\n",
    "# print(name.split()) # by default -> \" \"\n",
    "print(name.split('a'))"
   ]
  },
  {
   "cell_type": "code",
   "execution_count": 1,
   "id": "c29ae714",
   "metadata": {},
   "outputs": [
    {
     "ename": "TypeError",
     "evalue": "'str' object does not support item assignment",
     "output_type": "error",
     "traceback": [
      "\u001b[0;31m---------------------------------------------------------------------------\u001b[0m",
      "\u001b[0;31mTypeError\u001b[0m                                 Traceback (most recent call last)",
      "Cell \u001b[0;32mIn[1], line 4\u001b[0m\n\u001b[1;32m      1\u001b[0m \u001b[38;5;66;03m# Strings are immutable\u001b[39;00m\n\u001b[1;32m      3\u001b[0m name \u001b[38;5;241m=\u001b[39m \u001b[38;5;124m'\u001b[39m\u001b[38;5;124mSAM\u001b[39m\u001b[38;5;124m'\u001b[39m\n\u001b[0;32m----> 4\u001b[0m name[\u001b[38;5;241m0\u001b[39m] \u001b[38;5;241m=\u001b[39m \u001b[38;5;124m'\u001b[39m\u001b[38;5;124mJ\u001b[39m\u001b[38;5;124m'\u001b[39m \n\u001b[1;32m      6\u001b[0m \u001b[38;5;66;03m# replace\u001b[39;00m\n\u001b[1;32m      7\u001b[0m name \u001b[38;5;241m=\u001b[39m \u001b[38;5;124m'\u001b[39m\u001b[38;5;124msam is a boys\u001b[39m\u001b[38;5;124m'\u001b[39m\n",
      "\u001b[0;31mTypeError\u001b[0m: 'str' object does not support item assignment"
     ]
    }
   ],
   "source": [
    "# Strings are immutable\n",
    "\n",
    "# name = 'SAM'\n",
    "# name[0] = 'J' \n",
    "\n",
    "# replace\n",
    "name = 'sam is a boys'\n",
    "# print(name.replace('s', 'j', 2)) # it creates new memory # limit\n",
    "# print(name)"
   ]
  },
  {
   "cell_type": "code",
   "execution_count": 128,
   "id": "2648320b",
   "metadata": {},
   "outputs": [
    {
     "name": "stdout",
     "output_type": "stream",
     "text": [
      "4\n"
     ]
    }
   ],
   "source": [
    "name = 'ddsadasdas'\n",
    "print(name.count('d'))"
   ]
  },
  {
   "cell_type": "code",
   "execution_count": 4,
   "id": "bf6fb607",
   "metadata": {},
   "outputs": [
    {
     "ename": "TypeError",
     "evalue": "'set' object is not subscriptable",
     "output_type": "error",
     "traceback": [
      "\u001b[0;31m---------------------------------------------------------------------------\u001b[0m",
      "\u001b[0;31mTypeError\u001b[0m                                 Traceback (most recent call last)",
      "Cell \u001b[0;32mIn[4], line 17\u001b[0m\n\u001b[1;32m      6\u001b[0m name \u001b[38;5;241m=\u001b[39m {\u001b[38;5;124m'\u001b[39m\u001b[38;5;124mR\u001b[39m\u001b[38;5;124m'\u001b[39m, \u001b[38;5;124m'\u001b[39m\u001b[38;5;124mA\u001b[39m\u001b[38;5;124m'\u001b[39m, \u001b[38;5;124m'\u001b[39m\u001b[38;5;124mM\u001b[39m\u001b[38;5;124m'\u001b[39m, \u001b[38;5;124m'\u001b[39m\u001b[38;5;124mE\u001b[39m\u001b[38;5;124m'\u001b[39m, \u001b[38;5;124m'\u001b[39m\u001b[38;5;124mS\u001b[39m\u001b[38;5;124m'\u001b[39m, \u001b[38;5;124m'\u001b[39m\u001b[38;5;124mH\u001b[39m\u001b[38;5;124m'\u001b[39m}\n\u001b[1;32m      8\u001b[0m \u001b[38;5;66;03m# print(name)\u001b[39;00m\n\u001b[1;32m      9\u001b[0m \u001b[38;5;66;03m# print(name[0], name[1], name[2], name[3], name[4], name[5])\u001b[39;00m\n\u001b[1;32m     10\u001b[0m \u001b[38;5;66;03m# print(name[-1], name[-2], name[-3], name[-4], name[-5], name[-6])\u001b[39;00m\n\u001b[0;32m   (...)\u001b[0m\n\u001b[1;32m     14\u001b[0m \u001b[38;5;66;03m# If step is +ve, default start = 0\u001b[39;00m\n\u001b[1;32m     15\u001b[0m \u001b[38;5;66;03m# If step is -ve, default start = -1\u001b[39;00m\n\u001b[0;32m---> 17\u001b[0m \u001b[38;5;28mprint\u001b[39m(name[\u001b[38;5;241m1\u001b[39m:\u001b[38;5;241m4\u001b[39m])\n\u001b[1;32m     18\u001b[0m \u001b[38;5;28mprint\u001b[39m(name[\u001b[38;5;241m2\u001b[39m:\u001b[38;5;241m5\u001b[39m])\n\u001b[1;32m     19\u001b[0m \u001b[38;5;28mprint\u001b[39m(name[\u001b[38;5;241m1\u001b[39m:\u001b[38;5;241m10\u001b[39m])\n",
      "\u001b[0;31mTypeError\u001b[0m: 'set' object is not subscriptable"
     ]
    }
   ],
   "source": [
    "# SLICING\n",
    "\n",
    "# name = 'RAMESH'\n",
    "# name = ['R', 'A', 'M', 'E', 'S', 'H']\n",
    "# name = ('R', 'A', 'M', 'E', 'S', 'H')\n",
    "\n",
    "# print(name)\n",
    "# print(name[0], name[1], name[2], name[3], name[4], name[5])\n",
    "# print(name[-1], name[-2], name[-3], name[-4], name[-5], name[-6])\n",
    "\n",
    "# (start=0/-1, end+1, step=1)\n",
    "\n",
    "# If step is +ve, default start = 0\n",
    "# If step is -ve, default start = -1\n",
    "\n",
    "# print(name[1:4])\n",
    "# print(name[2:5])\n",
    "# print(name[1:10])\n",
    "# print(name[2:])\n",
    "# print(name[:4])\n",
    "# print(name[5:2]) # empty string\n",
    "# print(name[0:5:2])\n",
    "# print(name[0:4:2])\n",
    "\n",
    "# print(name[-5:-2]) # name[1:4]\n",
    "# print(name[-2:-5]) # empty \n",
    "# print(name[-2:-5:-1])\n",
    "# print(name[1:-1]) # name[1:5]\n",
    "\n",
    "# print(name[:-4])\n",
    "# print(name[:-4:-1])\n",
    "\n",
    "# print(name[2:-4]) # empty\n",
    "# print(name[2:-4:-1]) # empty\n",
    "\n",
    "# print(name[::1])\n",
    "# print(name[::-1]) # reverse [::-1]"
   ]
  },
  {
   "cell_type": "code",
   "execution_count": 161,
   "id": "b3ca465f",
   "metadata": {},
   "outputs": [
    {
     "name": "stdout",
     "output_type": "stream",
     "text": [
      "['Aakash', 'Abhijit', 'Ahamed', 10, 10.5]\n"
     ]
    }
   ],
   "source": [
    "# name1 = 'aakash'\n",
    "# name2 = 'abhijit'\n",
    "# name3 = 'ahamed'\n",
    "\n",
    "# COLLECTION -> collection of same or different datatype\n",
    "\n",
    "students_name = ['Aakash', 'Abhijit', 'Ahamed', 10, 10.5]\n",
    "print(students_name)"
   ]
  },
  {
   "cell_type": "code",
   "execution_count": null,
   "id": "9e951439",
   "metadata": {},
   "outputs": [],
   "source": [
    "# Pascal Case -> Person, FirstNameOfPerson -> class\n",
    "# camel case -> person, firstName, lastName, firstNameOfPerson -> Not recommended\n",
    "# snake case -> person, first_name, last_name, first_name_of_person -> variables, functions"
   ]
  },
  {
   "cell_type": "code",
   "execution_count": 163,
   "id": "3419094d",
   "metadata": {},
   "outputs": [
    {
     "name": "stdout",
     "output_type": "stream",
     "text": [
      "num1 is greater\n"
     ]
    }
   ],
   "source": [
    "# conditional statements -> if, if else, elif\n",
    "\n",
    "# greatest of 2 nums\n",
    "num1 = 100\n",
    "num2 = 20\n",
    "\n",
    "# indentation\n",
    "# if(num1 > num2):\n",
    "#     print('num1 is greater')\n",
    "# else:\n",
    "#     print('num2 is greater')"
   ]
  },
  {
   "cell_type": "code",
   "execution_count": 171,
   "id": "995e6e11",
   "metadata": {},
   "outputs": [
    {
     "name": "stdout",
     "output_type": "stream",
     "text": [
      "num1 is greater\n"
     ]
    }
   ],
   "source": [
    "# greatest of 3 nums\n",
    "num1 = 1000\n",
    "num2 = 200\n",
    "num3 = 30\n",
    "\n",
    "# nested if blocks\n",
    "\n",
    "# if(num1 > num2):\n",
    "#     if(num1 > num3):\n",
    "#         print('num1 is greater')\n",
    "#     else:\n",
    "#         print('num3 is greater')\n",
    "# else:\n",
    "#     if(num2 > num3):\n",
    "#         print('num2 is greater')\n",
    "#     else:\n",
    "#         print('num3 is greater')\n",
    "\n",
    "\n",
    "if(num1 > num2 and num1 > num3):\n",
    "    print('num1 is greater')\n",
    "elif(num2 > num1 and num2 > num3):\n",
    "    print('num2 is greater')\n",
    "else:\n",
    "    print('num3 is greater')"
   ]
  },
  {
   "cell_type": "code",
   "execution_count": 174,
   "id": "543a5afe",
   "metadata": {},
   "outputs": [],
   "source": [
    "# ternary and switch case -> not supported in python\n",
    "# is_valid = 10 > 5 ? 'True' : 'False'"
   ]
  },
  {
   "cell_type": "code",
   "execution_count": null,
   "id": "bd1b55b8",
   "metadata": {},
   "outputs": [],
   "source": []
  },
  {
   "cell_type": "code",
   "execution_count": null,
   "id": "939639ac",
   "metadata": {},
   "outputs": [],
   "source": []
  },
  {
   "cell_type": "code",
   "execution_count": null,
   "id": "ae02dc2e",
   "metadata": {},
   "outputs": [],
   "source": []
  },
  {
   "cell_type": "code",
   "execution_count": null,
   "id": "3d0f234f",
   "metadata": {},
   "outputs": [],
   "source": []
  },
  {
   "cell_type": "code",
   "execution_count": null,
   "id": "d93dc274",
   "metadata": {},
   "outputs": [],
   "source": []
  },
  {
   "cell_type": "code",
   "execution_count": null,
   "id": "ecb39710",
   "metadata": {},
   "outputs": [],
   "source": []
  }
 ],
 "metadata": {
  "kernelspec": {
   "display_name": "Python 3 (ipykernel)",
   "language": "python",
   "name": "python3"
  },
  "language_info": {
   "codemirror_mode": {
    "name": "ipython",
    "version": 3
   },
   "file_extension": ".py",
   "mimetype": "text/x-python",
   "name": "python",
   "nbconvert_exporter": "python",
   "pygments_lexer": "ipython3",
   "version": "3.11.4"
  }
 },
 "nbformat": 4,
 "nbformat_minor": 5
}

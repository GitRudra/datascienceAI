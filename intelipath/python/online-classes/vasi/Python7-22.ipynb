{
 "cells": [
  {
   "cell_type": "code",
   "execution_count": 16,
   "id": "fca8ad81",
   "metadata": {},
   "outputs": [
    {
     "name": "stdout",
     "output_type": "stream",
     "text": [
      "56800.0\n"
     ]
    }
   ],
   "source": [
    "# Inheritance\n",
    "\n",
    "class Item:\n",
    "    discount = 0.2 # 20% discount\n",
    "    \n",
    "    def __init__(self, name, price = 0, quantity = 1):\n",
    "        assert price >= 0, f'price {price} should be greater than or equal to 0'\n",
    "        assert quantity > 0, f'quantity {quantity} should be greater than 0'\n",
    "#         print('Item constructor', self.__dict__)\n",
    "        self.name = name\n",
    "        self.price = price\n",
    "        self.quantity = quantity\n",
    "        \n",
    "    def calculate_total_price(self):\n",
    "        return self.price * self.quantity\n",
    "    \n",
    "    def apply_discount(self):\n",
    "        self.price = self.price - (self.discount * self.price)\n",
    "        \n",
    "# inheritance\n",
    "class Phone(Item):\n",
    "    \n",
    "    def __init__(self, name, price = 0, quantity = 1, ram = '4gb', rom = '128gb', camera = '48MP'):\n",
    "#         print('phone constructor')\n",
    "        # super -> parent -> Item\n",
    "        super().__init__(name, price, quantity)\n",
    "        self.ram = ram\n",
    "        self.rom = rom\n",
    "        self.camera = camera\n",
    "        self.price = price + 1000 # GST\n",
    "        \n",
    "        \n",
    "        \n",
    "Iphone = Phone('Iphone 15', 70000, 1, '6gb', '128gb', '12MP')\n",
    "# print(Iphone.__dict__)\n",
    "# Iphone.discount = 0.5\n",
    "Iphone.apply_discount()\n",
    "print(Iphone.calculate_total_price())"
   ]
  },
  {
   "cell_type": "code",
   "execution_count": 25,
   "id": "a4c93563",
   "metadata": {},
   "outputs": [
    {
     "name": "stdout",
     "output_type": "stream",
     "text": [
      "audi\n"
     ]
    }
   ],
   "source": [
    "# types of inheritance -> single level, multi level, multiple, hierarchical\n",
    "\n",
    "# single level\n",
    "class Parent:\n",
    "    def __init__(self):\n",
    "        self.name = \"Parent\"\n",
    "        \n",
    "    def display(self):\n",
    "        print(self.name)\n",
    "        \n",
    "class Child(Parent):\n",
    "    def __init__(self) -> None:\n",
    "        super().__init__()\n",
    "        self.name = 'child'\n",
    "        self.car = 'audi'\n",
    "        \n",
    "# parent = Parent()\n",
    "# # parent.display()\n",
    "# print(parent.car)\n",
    "\n",
    "child = Child()\n",
    "# child.display() # methods are inherited by default\n",
    "print(child.car)"
   ]
  },
  {
   "cell_type": "code",
   "execution_count": null,
   "id": "eeea0374",
   "metadata": {},
   "outputs": [],
   "source": [
    "# def display(name: str) -> str:\n",
    "#     return 10\n",
    "\n",
    "# result = display(1000)\n",
    "# print(type(result))"
   ]
  },
  {
   "cell_type": "code",
   "execution_count": 45,
   "id": "ff235b03",
   "metadata": {},
   "outputs": [
    {
     "name": "stdout",
     "output_type": "stream",
     "text": [
      "yamaha\n"
     ]
    }
   ],
   "source": [
    "# multi level inheritance\n",
    "\n",
    "class GrandParent:\n",
    "    amount = 5000 # class props are also inherited by default\n",
    "    \n",
    "    def __init__(self):\n",
    "        self.house = 'Own house'\n",
    "        \n",
    "    def display(self):\n",
    "        print(self.bike)\n",
    "        \n",
    "class Parent(GrandParent):\n",
    "    def __init__(self):\n",
    "        super().__init__()\n",
    "        self.car = 'maruti'\n",
    "    \n",
    "class Child(Parent):\n",
    "    def __init__(self):\n",
    "        super().__init__()\n",
    "        self.bike = 'yamaha'\n",
    "        \n",
    "gp = GrandParent()\n",
    "# print(gp.house)\n",
    "# print(gp.amount)\n",
    "# print(gp.car)\n",
    "# print(gp.bike)\n",
    "# gp.display()\n",
    "\n",
    "# parent = Parent()\n",
    "# print(parent.house)\n",
    "# print(parent.amount)\n",
    "# print(parent.bike)\n",
    "# parent.display()\n",
    "\n",
    "child = Child()\n",
    "# print(child.bike)\n",
    "# print(child.car)\n",
    "# print(child.house)\n",
    "child.display()"
   ]
  },
  {
   "cell_type": "code",
   "execution_count": 62,
   "id": "9d0b75c0",
   "metadata": {},
   "outputs": [
    {
     "name": "stdout",
     "output_type": "stream",
     "text": [
      "Playing with mother\n"
     ]
    }
   ],
   "source": [
    "# multiple inheritance\n",
    "class Father:\n",
    "    def __init__(self):\n",
    "        self.name = 'Father'\n",
    "        \n",
    "    def play(self):\n",
    "        print('Playing with father')\n",
    "    \n",
    "class Mother:\n",
    "    def __init__(self):\n",
    "        self.name = 'Mother'\n",
    "        self.care = 'mothers love'\n",
    "        \n",
    "    def play(self):\n",
    "        print('Playing with mother')\n",
    "        \n",
    "class Child(Mother, Father):\n",
    "    def __init__(self):\n",
    "        # super().__init__() # super -> 1st parent\n",
    "        Mother.__init__(self)\n",
    "        Father.__init__(self)\n",
    "        \n",
    "        \n",
    "father = Father()\n",
    "# print(father.name)\n",
    "# father.play()\n",
    "\n",
    "mother = Mother()\n",
    "# print(mother.name, mother.care)\n",
    "\n",
    "child = Child()\n",
    "# print(child.name, child.care)\n",
    "child.play() # depends on order of inheritance"
   ]
  },
  {
   "cell_type": "code",
   "execution_count": 68,
   "id": "e6e7b711",
   "metadata": {},
   "outputs": [
    {
     "name": "stdout",
     "output_type": "stream",
     "text": [
      "bharat India\n"
     ]
    }
   ],
   "source": [
    "# hierarchical inheritance\n",
    "\n",
    "class Parent:\n",
    "    def __init__(self):\n",
    "        self.name = 'Parent'\n",
    "        \n",
    "class Child1(Parent):\n",
    "    def __init__(self):\n",
    "        super().__init__()\n",
    "        self.country = 'USA'\n",
    "\n",
    "class Child2(Parent):\n",
    "    def __init__(self):\n",
    "        super().__init__()\n",
    "        self.country = 'India'\n",
    "        self.name = 'bharat'\n",
    "                \n",
    "# parent = Parent()\n",
    "# print(parent.name)\n",
    "\n",
    "# c1 = Child1()\n",
    "# print(c1.name, c1.country)\n",
    "\n",
    "c2 = Child2()\n",
    "print(c2.name, c2.country)"
   ]
  },
  {
   "cell_type": "code",
   "execution_count": 70,
   "id": "8ee0f0e8",
   "metadata": {},
   "outputs": [
    {
     "ename": "TypeError",
     "evalue": "Child.play() takes 1 positional argument but 2 were given",
     "output_type": "error",
     "traceback": [
      "\u001b[0;31m---------------------------------------------------------------------------\u001b[0m",
      "\u001b[0;31mTypeError\u001b[0m                                 Traceback (most recent call last)",
      "Cell \u001b[0;32mIn[70], line 12\u001b[0m\n\u001b[1;32m      9\u001b[0m         \u001b[38;5;28mprint\u001b[39m(\u001b[38;5;124m'\u001b[39m\u001b[38;5;124mchild playing\u001b[39m\u001b[38;5;124m'\u001b[39m)\n\u001b[1;32m     11\u001b[0m child \u001b[38;5;241m=\u001b[39m Child()\n\u001b[0;32m---> 12\u001b[0m child\u001b[38;5;241m.\u001b[39mplay(\u001b[38;5;124m'\u001b[39m\u001b[38;5;124mchennai\u001b[39m\u001b[38;5;124m'\u001b[39m)\n",
      "\u001b[0;31mTypeError\u001b[0m: Child.play() takes 1 positional argument but 2 were given"
     ]
    }
   ],
   "source": [
    "# polymorphism => many + forms -> overloading and overriding\n",
    "\n",
    "class Parent:\n",
    "    def play(self, place):\n",
    "        print('parent playing', place)\n",
    "        \n",
    "class Child(Parent):\n",
    "    # overriding\n",
    "    def play(self):\n",
    "        print('child playing')\n",
    "\n",
    "child = Child()\n",
    "child.play('chennai')\n",
    "\n",
    "# overloading -> call the fn based on num of params or type of params\n",
    "# overloading is not supported"
   ]
  },
  {
   "cell_type": "code",
   "execution_count": 81,
   "id": "e3d0a905",
   "metadata": {},
   "outputs": [
    {
     "name": "stdout",
     "output_type": "stream",
     "text": [
      "analysing the data\n",
      "laptop processing\n"
     ]
    }
   ],
   "source": [
    "# abstraction \n",
    "\n",
    "# ABC -> Abstract Base Class -> Objects cannot be created\n",
    "# Atleast 1 abstract method should be present -> interface\n",
    "\n",
    "from abc import ABC, abstractmethod\n",
    "\n",
    "class Computer(ABC):\n",
    "    @abstractmethod\n",
    "    def process(self):\n",
    "        pass\n",
    "        \n",
    "class Laptop(Computer):\n",
    "    def play_video(self):\n",
    "        print('playing video')\n",
    "        \n",
    "    def process(self):\n",
    "        print('laptop processing')\n",
    "        \n",
    "class DataScientist:\n",
    "    def work(self, device):\n",
    "        print('analysing the data')\n",
    "        device.process()\n",
    "        \n",
    "m3_pro = Laptop()\n",
    "# # m3_pro.play_video()\n",
    "# # m3_pro.process()\n",
    "\n",
    "vasi = DataScientist()\n",
    "vasi.work(m3_pro) # composition -> passing 1 object into another object\n",
    "\n",
    "# hp = Computer()\n",
    "# print(hp)"
   ]
  },
  {
   "cell_type": "code",
   "execution_count": 92,
   "id": "564a49af",
   "metadata": {},
   "outputs": [
    {
     "name": "stdout",
     "output_type": "stream",
     "text": [
      "going to market with 100\n",
      "taking the bag\n"
     ]
    }
   ],
   "source": [
    "from abc import ABC, abstractmethod\n",
    "\n",
    "class Market(ABC):\n",
    "    @abstractmethod\n",
    "    def carry_cash(self):\n",
    "        pass\n",
    "    \n",
    "    def take_bag(self):\n",
    "        print('taking the bag')\n",
    "    \n",
    "class Human(Market):\n",
    "    def __init__(self):\n",
    "        self.amount = 0\n",
    "    \n",
    "    def go_to_market(self):\n",
    "        if(self.amount > 0):\n",
    "            print(f'going to market with {self.amount}')\n",
    "        else:\n",
    "            print('no money')\n",
    "            \n",
    "    def carry_cash(self, amount):\n",
    "        self.amount = amount\n",
    "            \n",
    "sridhar = Human()\n",
    "sridhar.carry_cash(100)\n",
    "sridhar.go_to_market()\n",
    "sridhar.take_bag()"
   ]
  },
  {
   "cell_type": "code",
   "execution_count": 96,
   "id": "f8125021",
   "metadata": {},
   "outputs": [
    {
     "name": "stdout",
     "output_type": "stream",
     "text": [
      "invalid\n",
      "1\n",
      "120\n"
     ]
    }
   ],
   "source": [
    "# hands - on\n",
    "\n",
    "# 1. Create a function named ‘factor’ that can only accept 1 argument. The function should\n",
    "# return the factorial of that number.\n",
    "\n",
    "# def factor(num):\n",
    "#     if(num < 0): return 'invalid'\n",
    "#     if(num < 2): return 1\n",
    "#     factorial = 1\n",
    "#     for i in range(2, num+1):\n",
    "#         factorial = factorial * i\n",
    "#     return factorial\n",
    "\n",
    "import math\n",
    "\n",
    "def factor(num):\n",
    "    if(num < 0): return 'invalid'\n",
    "    return math.factorial(num)\n",
    "\n",
    "print(factor(-1))\n",
    "print(factor(0))\n",
    "print(factor(5))"
   ]
  },
  {
   "cell_type": "code",
   "execution_count": 100,
   "id": "2d49127f",
   "metadata": {},
   "outputs": [
    {
     "name": "stdout",
     "output_type": "stream",
     "text": [
      "Enter the word to be checked: Sam\n",
      "String contains letter S\n"
     ]
    }
   ],
   "source": [
    "# 2. Create a function named ‘check_string’, the function should accept a string data from the\n",
    "# user and the function should check if the user input contains the letter ‘s’ in it. If it contains\n",
    "# the letter ‘s’ then print- ‘The string is containing the letter ‘s’’, if not then print- ‘The string\n",
    "# doesn’t contain the letter ‘s’’.\n",
    "\n",
    "def check_string():\n",
    "    word = input('Enter the word to be checked: ')\n",
    "    word = word.lower()\n",
    "    \n",
    "    if('s' in word):\n",
    "        print('String contains letter S')\n",
    "    else:\n",
    "        print('String not contains letter S')\n",
    "        \n",
    "check_string()"
   ]
  },
  {
   "cell_type": "code",
   "execution_count": 108,
   "id": "9d67485d",
   "metadata": {},
   "outputs": [
    {
     "name": "stdout",
     "output_type": "stream",
     "text": [
      "enter the word: vasi\n",
      "fun1 --> vasi\n",
      "vasi\n"
     ]
    }
   ],
   "source": [
    "# 3. Create a class named ‘student’ and inside the class, create a function named ‘fun1’- this\n",
    "# method should accept the user defined input and return that value.\n",
    "# a. Create another method named- message() and that method should print the user\n",
    "# defined input that we have defined in ‘fun1’.\n",
    "\n",
    "class Student:\n",
    "    def __init__(self):\n",
    "        self.word = None\n",
    "    \n",
    "    def fun1(self):\n",
    "        self.word = input('enter the word: ')\n",
    "        return self.word\n",
    "    \n",
    "    def message(self):\n",
    "        print(self.word)\n",
    "    \n",
    "s = Student()\n",
    "print('fun1 -->', s.fun1())\n",
    "s.message()"
   ]
  },
  {
   "cell_type": "code",
   "execution_count": 109,
   "id": "043aeb8e",
   "metadata": {},
   "outputs": [
    {
     "name": "stdout",
     "output_type": "stream",
     "text": [
      "20\n"
     ]
    }
   ],
   "source": [
    "# 4. Create a lambda function that should double or multiply the number (that we will be passing\n",
    "# in the lambda function) by 2. Store the lambda function in a variable named ‘double_num’.\n",
    "\n",
    "double_num = lambda num: num * 2\n",
    "print(double_num(10))"
   ]
  },
  {
   "cell_type": "code",
   "execution_count": 128,
   "id": "7ac1de1b",
   "metadata": {},
   "outputs": [
    {
     "name": "stdout",
     "output_type": "stream",
     "text": [
      "Enter the word: moom\n",
      "palindrome\n"
     ]
    }
   ],
   "source": [
    "# 5. Take the user input string and check whether that string is palindrome or not.\n",
    "# MAM, DAD, MOM, RACECAR, MALAYALAM\n",
    "\n",
    "word = input('Enter the word: ')\n",
    "if word == word[::-1]:\n",
    "    print('palindrome')\n",
    "else:\n",
    "    print('not a palindrome')"
   ]
  },
  {
   "cell_type": "code",
   "execution_count": 126,
   "id": "60c43c6e",
   "metadata": {},
   "outputs": [
    {
     "data": {
      "text/plain": [
       "True"
      ]
     },
     "execution_count": 126,
     "metadata": {},
     "output_type": "execute_result"
    }
   ],
   "source": [
    "# Anagram of RAM -> ARM, AMR, RMA, MAR, MRA \n",
    "# COOL -> LOOC\n",
    "\n",
    "# MAM -> MMA, AMM, MAM\n",
    "\n",
    "# find anagram\n",
    "\n",
    "\n",
    "\n",
    "def is_anagram(word1, word2):\n",
    "#     list_word1 = list(word1)\n",
    "#     list_word1.sort()\n",
    "#     list_word2 = list(word2)\n",
    "#     list_word2.sort()\n",
    "#     return list_word1 == list_word2\n",
    "    return sorted(word1) == sorted(word2)\n",
    "    \n",
    "is_anagram('vasi', 'asvi')"
   ]
  },
  {
   "cell_type": "code",
   "execution_count": 124,
   "id": "018f8ced",
   "metadata": {},
   "outputs": [
    {
     "data": {
      "text/plain": [
       "['a', 'i', 's', 'v']"
      ]
     },
     "execution_count": 124,
     "metadata": {},
     "output_type": "execute_result"
    }
   ],
   "source": [
    "sorted('vasi')"
   ]
  },
  {
   "cell_type": "code",
   "execution_count": 131,
   "id": "ffd7a183",
   "metadata": {},
   "outputs": [
    {
     "name": "stdout",
     "output_type": "stream",
     "text": [
      "this is fn1 in the super class\n"
     ]
    }
   ],
   "source": [
    "# 6. Create a class named ‘Super’ and inside that class define a user-defined function named\n",
    "# fun1.\n",
    "# a. Inside the ‘fun1’ function, pass the message “This is function 1 in the Super class.”\n",
    "# in the print statement.\n",
    "\n",
    "# 7. Create another class named ‘Modified_Super’ and inherit this class from the Super class.\n",
    "# a. Inside the Modified_Super class, create a function named ‘fun1’ and pass the\n",
    "# following message inside the print statement: ‘This is function 1 in the Modified\n",
    "# Super class.’\n",
    "# b. Create another user-defined function named ‘fun2’ and pass the message: ‘This is\n",
    "# the 2nd function from the Modified Super class’ in the print statement.\n",
    "# c. After that, now create an object for the Modified_Super class and call the fun1().\n",
    "\n",
    "class Super:\n",
    "    def fun1(self):\n",
    "        print('this is fn1 in the super class')\n",
    "        \n",
    "class ModifiedSuper(Super):\n",
    "    def fun1(self):\n",
    "        print('this is fn1 in the modified super class')\n",
    "        \n",
    "    def fun2(self):\n",
    "        print('this is fnw in the modified super class')\n",
    "        \n",
    "ms = ModifiedSuper()\n",
    "ms.fun1()"
   ]
  },
  {
   "cell_type": "code",
   "execution_count": 137,
   "id": "1715ad7e",
   "metadata": {},
   "outputs": [
    {
     "name": "stdout",
     "output_type": "stream",
     "text": [
      "this fn has 2 arguments\n"
     ]
    }
   ],
   "source": [
    "# 8. Create 2 methods named ‘Hello’. In the 1st Hello method, pass only one argument and pass\n",
    "# this message: ‘This function only has 1 argument’. And in the 2nd Hello method, pass\n",
    "# two arguments and pass this message: ‘This function has 2 arguments’.\n",
    "# a. Try to call both the methods and analyze the output of both the methods.\n",
    "\n",
    "class Hello:\n",
    "    def hello(self, one):\n",
    "        print('this fn only has 1 argument')\n",
    "        \n",
    "    def hello(self, one, two):\n",
    "        print('this fn has 2 arguments')\n",
    "\n",
    "h = Hello()\n",
    "h.hello('one', 'two')"
   ]
  },
  {
   "cell_type": "code",
   "execution_count": 139,
   "id": "c8c4aca4",
   "metadata": {},
   "outputs": [
    {
     "name": "stdout",
     "output_type": "stream",
     "text": [
      "Enter the no of inputs: 5\n",
      "Enter the num to be added: 10\n",
      "Enter the num to be added: 20\n",
      "Enter the num to be added: 30\n",
      "Enter the num to be added: 40\n",
      "Enter the num to be added: 50\n",
      "150\n"
     ]
    }
   ],
   "source": [
    "# 9. Create a method named ‘Sum’ that can accept multiple user inputs. Now add those user-\n",
    "# defined input values using for loop and the function should return the addition of the numbers.\n",
    "\n",
    "class Sum:\n",
    "    def get_sum(self):\n",
    "        no_of_inputs = int(input('Enter the no of inputs: '))\n",
    "        total = 0\n",
    "        for i in range(no_of_inputs):\n",
    "            user_input = int(input('Enter the num to be added: '))\n",
    "            total += user_input\n",
    "            \n",
    "        return total\n",
    "    \n",
    "s = Sum()\n",
    "print(s.get_sum())"
   ]
  },
  {
   "cell_type": "code",
   "execution_count": 149,
   "id": "bfd37f2a",
   "metadata": {},
   "outputs": [
    {
     "name": "stdout",
     "output_type": "stream",
     "text": [
      "30\n",
      "10\n",
      "20\n"
     ]
    }
   ],
   "source": [
    "# 10. Create a class named ‘Encapsulation’:\n",
    "# a. Inside the class, first create a constructor. Inside the constructor, initialize\n",
    "# originalValue variable as 10.\n",
    "# b. After creating the constructor, define a function named ‘Value’ and this function\n",
    "# should return the variable that we have initialized in the constructor.\n",
    "# c. Now create 2nd function named setValue, and pass an argument named\n",
    "# ‘newValue’. The task of this function will be to replace the value of the\n",
    "# originalValue variable by the value of the newValue variable.\n",
    "\n",
    "\n",
    "class Encapsulation:\n",
    "    def __init__(self):\n",
    "        self.__originalvalue = 10\n",
    "      \n",
    "    # getter\n",
    "    def value(self):\n",
    "        return self.__originalvalue\n",
    "    \n",
    "    # setter\n",
    "    def set_value(self, new_value):\n",
    "        self.__originalvalue = new_value\n",
    "        \n",
    "        \n",
    "e = Encapsulation()\n",
    "\n",
    "e.__originalvalue = 30\n",
    "print(e.__originalvalue)\n",
    "\n",
    "print(e.value()) # original obj will not be affected\n",
    "e.set_value(20)\n",
    "print(e.value())"
   ]
  },
  {
   "cell_type": "code",
   "execution_count": null,
   "id": "7953e93b",
   "metadata": {},
   "outputs": [],
   "source": []
  },
  {
   "cell_type": "code",
   "execution_count": null,
   "id": "e7f85654",
   "metadata": {},
   "outputs": [],
   "source": []
  },
  {
   "cell_type": "code",
   "execution_count": null,
   "id": "ef1bcae5",
   "metadata": {},
   "outputs": [],
   "source": []
  },
  {
   "cell_type": "code",
   "execution_count": null,
   "id": "d0a6a95c",
   "metadata": {},
   "outputs": [],
   "source": []
  },
  {
   "cell_type": "code",
   "execution_count": null,
   "id": "618b9b04",
   "metadata": {},
   "outputs": [],
   "source": []
  }
 ],
 "metadata": {
  "kernelspec": {
   "display_name": "Python 3 (ipykernel)",
   "language": "python",
   "name": "python3"
  },
  "language_info": {
   "codemirror_mode": {
    "name": "ipython",
    "version": 3
   },
   "file_extension": ".py",
   "mimetype": "text/x-python",
   "name": "python",
   "nbconvert_exporter": "python",
   "pygments_lexer": "ipython3",
   "version": "3.11.4"
  }
 },
 "nbformat": 4,
 "nbformat_minor": 5
}

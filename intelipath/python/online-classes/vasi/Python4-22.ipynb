{
 "cells": [
  {
   "cell_type": "code",
   "execution_count": 1,
   "id": "8fb9f07b",
   "metadata": {},
   "outputs": [],
   "source": [
    "# Loops -> do the same task until a condition is breaking"
   ]
  },
  {
   "cell_type": "code",
   "execution_count": 7,
   "id": "28e753f9",
   "metadata": {},
   "outputs": [
    {
     "data": {
      "text/plain": [
       "[10, 9, 8, 7, 6, 5, 4, 3, 2, 1]"
      ]
     },
     "execution_count": 7,
     "metadata": {},
     "output_type": "execute_result"
    }
   ],
   "source": [
    "# range(start, end+1, step=1)\n",
    "\n",
    "# list(range(1, 10)) # 1 to 9\n",
    "# list(range(5)) # end value and start = 0\n",
    "# list(range(0, 10, 2))\n",
    "\n",
    "# list(range(0, 10, -1))\n",
    "# list(range(10, 0, -1))"
   ]
  },
  {
   "cell_type": "code",
   "execution_count": 12,
   "id": "52a84f2f",
   "metadata": {},
   "outputs": [],
   "source": [
    "# Loops -> for loop, while loop\n",
    "# iterables -> any data which can be looped\n",
    "# eg: string, list, tuple, set, dictionary\n",
    "\n",
    "# for loop -> definite loop\n",
    "# 1 to 10\n",
    "\n",
    "# for num in range(1, 11):\n",
    "#     print(num)\n",
    "\n",
    "# 10 to 1\n",
    "# for num in range(10, 0, -1):\n",
    "#     print(num)"
   ]
  },
  {
   "cell_type": "code",
   "execution_count": 20,
   "id": "2a6d3320",
   "metadata": {},
   "outputs": [
    {
     "name": "stdout",
     "output_type": "stream",
     "text": [
      "[1, 2, 3]\n"
     ]
    }
   ],
   "source": [
    "# name = 'VASANTH'\n",
    "# for char in name:\n",
    "#     print(char)\n",
    "\n",
    "# nums = [10, 20, 30, True, 10.5, 789, 87]\n",
    "# nums = (10, 20, 30, True, 10.5, 789, 87)\n",
    "# nums = {10, 20, 30, True, 10.5, 789, 87} # order will be collapsed\n",
    "\n",
    "# for num in nums:\n",
    "#     print(num)\n",
    "\n",
    "\n",
    "# remove duplicates\n",
    "nums = [1, 2, 3, 3, 2]\n",
    "print(list(set(nums)))"
   ]
  },
  {
   "cell_type": "code",
   "execution_count": 26,
   "id": "595c69f0",
   "metadata": {},
   "outputs": [],
   "source": [
    "# CONTINUE\n",
    "# # print 1 to 10 except 5\n",
    "# for i in range(1, 11):\n",
    "#     print(f'i - {i}')\n",
    "#     if i == 5:\n",
    "#         continue\n",
    "#     print(i)\n",
    "\n",
    "# BREAK\n",
    "# print 1 to 10 and stop at 5\n",
    "# for i in range(1, 11):\n",
    "#     print(f'i - {i}')\n",
    "#     if i == 5:\n",
    "#         break\n",
    "#     print(i)"
   ]
  },
  {
   "cell_type": "code",
   "execution_count": 38,
   "id": "71c6d12c",
   "metadata": {},
   "outputs": [
    {
     "name": "stdout",
     "output_type": "stream",
     "text": [
      "['name', 'age', 'place']\n",
      "['Rajini', 72, 'chennai']\n",
      "[('name', 'Rajini'), ('age', 72), ('place', 'chennai')]\n"
     ]
    }
   ],
   "source": [
    "# dictionary\n",
    "person = {\n",
    "    \"name\": \"Rajini\",\n",
    "    \"age\": 72,\n",
    "    \"place\": \"chennai\"\n",
    "}\n",
    "\n",
    "# for key in person: # keys\n",
    "#     print(key, person.get(key))\n",
    "\n",
    "# keys = []\n",
    "# values = []\n",
    "# for key in person:\n",
    "#     keys.append(key)\n",
    "#     values.append(person.get(key))\n",
    "# print(keys, values)\n",
    "\n",
    "# keys list\n",
    "print(list(person.keys()))\n",
    "\n",
    "# values list\n",
    "print(list(person.values()))\n",
    "\n",
    "# # items list\n",
    "print(list(person.items()))\n"
   ]
  },
  {
   "cell_type": "code",
   "execution_count": 46,
   "id": "af979fb4",
   "metadata": {},
   "outputs": [
    {
     "name": "stdout",
     "output_type": "stream",
     "text": [
      "10\n",
      "20\n"
     ]
    }
   ],
   "source": [
    "# unpacking -> LHS == RHS\n",
    "# a, b = [10, 20]\n",
    "# a, b = (10, 20)\n",
    "# a, b = {10, 20}\n",
    "print(a)\n",
    "print(b)"
   ]
  },
  {
   "cell_type": "code",
   "execution_count": 49,
   "id": "18586899",
   "metadata": {},
   "outputs": [
    {
     "name": "stdout",
     "output_type": "stream",
     "text": [
      "name Rajini\n",
      "age 72\n",
      "place chennai\n"
     ]
    }
   ],
   "source": [
    "person = {\n",
    "    \"name\": \"Rajini\",\n",
    "    \"age\": 72,\n",
    "    \"place\": \"chennai\"\n",
    "}\n",
    "\n",
    "for key, value in person.items():\n",
    "    print(key, value)"
   ]
  },
  {
   "cell_type": "code",
   "execution_count": 55,
   "id": "a7493f03",
   "metadata": {},
   "outputs": [
    {
     "name": "stdout",
     "output_type": "stream",
     "text": [
      "{'name': 'Rajini', 'age': 72, 'place': 'chennai'}\n"
     ]
    }
   ],
   "source": [
    "keys = ['name', 'age', 'place']\n",
    "values = ['Rajini', 72, 'chennai']\n",
    "\n",
    "person = {}\n",
    "\n",
    "# create a dict\n",
    "for i in range(len(keys)):\n",
    "#     print(keys[i], values[i])\n",
    "    person[keys[i]] = values[i]\n",
    "    \n",
    "print(person)"
   ]
  },
  {
   "cell_type": "code",
   "execution_count": 69,
   "id": "af2ec57b",
   "metadata": {},
   "outputs": [
    {
     "name": "stdout",
     "output_type": "stream",
     "text": [
      "{'name': 'Rajini', 'age': 72, 'place': 'chennai'}\n"
     ]
    }
   ],
   "source": [
    "keys = ['name', 'age', 'place']\n",
    "values = ['Rajini', 72, \"chennai\"]\n",
    "\n",
    "person = {}\n",
    "\n",
    "# create a dict\n",
    "for i in range(len(keys)):\n",
    "    person[keys[i]] = values[i]\n",
    "\n",
    "# print(list(zip(keys, values)))\n",
    "\n",
    "# for key, value in zip(keys, values):\n",
    "#     person[key] = value\n",
    "    \n",
    "# person = dict(zip(keys, values))\n",
    "print(person)"
   ]
  },
  {
   "cell_type": "code",
   "execution_count": 62,
   "id": "471627c1",
   "metadata": {},
   "outputs": [
    {
     "name": "stdout",
     "output_type": "stream",
     "text": [
      "[('name', 'vasi', 1)]\n"
     ]
    }
   ],
   "source": [
    "# zip\n",
    "a = ['name', 'age', 'place']\n",
    "b = ['vasi', 10, 'chennai']\n",
    "c = [1]\n",
    "\n",
    "print(list(zip(a, b, c)))"
   ]
  },
  {
   "cell_type": "code",
   "execution_count": 75,
   "id": "bace738c",
   "metadata": {},
   "outputs": [
    {
     "name": "stdout",
     "output_type": "stream",
     "text": [
      "450 10\n"
     ]
    }
   ],
   "source": [
    "# greatest and smallest of given nums\n",
    "nums = [10, 56, 16, 29, 450]\n",
    "# print(max(nums))\n",
    "\n",
    "maximum = nums[0]\n",
    "minimum = nums[0]\n",
    "\n",
    "for i in range(1, len(nums)):\n",
    "    if(nums[i] > maximum):\n",
    "        maximum = nums[i]\n",
    "        \n",
    "    if(nums[i] < minimum):\n",
    "        minimum = nums[i]\n",
    "        \n",
    "print(maximum, minimum)"
   ]
  },
  {
   "cell_type": "code",
   "execution_count": 78,
   "id": "a3c0ede1",
   "metadata": {},
   "outputs": [
    {
     "name": "stdout",
     "output_type": "stream",
     "text": [
      "11 12 13 \n",
      "21 22 23 \n",
      "31 32 33 \n"
     ]
    }
   ],
   "source": [
    "# 2d format\n",
    "\n",
    "num = 3\n",
    "\n",
    "for i in range(1, num+1):\n",
    "    for j in range(1, num+1):\n",
    "        print(f'{i}{j}', end=\" \")\n",
    "    print()"
   ]
  },
  {
   "cell_type": "code",
   "execution_count": 92,
   "id": "f8a6fb65",
   "metadata": {},
   "outputs": [
    {
     "name": "stdout",
     "output_type": "stream",
     "text": [
      "*****\n",
      "*****\n",
      "*****\n",
      "*****\n",
      "*****\n",
      "5\n"
     ]
    }
   ],
   "source": [
    "# ***\n",
    "# ***\n",
    "# ***\n",
    "\n",
    "num = 5\n",
    "count = 0\n",
    "\n",
    "# for i in range(1, num+1):\n",
    "#     for j in range(1, num+1):\n",
    "#         print('*', end=\"\")\n",
    "#         count += 1\n",
    "#     print()\n",
    "\n",
    "for i in range(1, num+1):\n",
    "    print('*' * num)\n",
    "    count += 1\n",
    "    \n",
    "print(count)"
   ]
  },
  {
   "cell_type": "code",
   "execution_count": 94,
   "id": "c07f5459",
   "metadata": {},
   "outputs": [
    {
     "name": "stdout",
     "output_type": "stream",
     "text": [
      "*\n",
      "**\n",
      "***\n",
      "****\n",
      "*****\n"
     ]
    }
   ],
   "source": [
    "# *\n",
    "# **\n",
    "# ***\n",
    "# ****\n",
    "# *****\n",
    "\n",
    "# num = 5\n",
    "# for i in range(1, num+1):\n",
    "#     print('*' * i)"
   ]
  },
  {
   "cell_type": "code",
   "execution_count": 95,
   "id": "1fe73b08",
   "metadata": {},
   "outputs": [
    {
     "name": "stdout",
     "output_type": "stream",
     "text": [
      "*****\n",
      "****\n",
      "***\n",
      "**\n",
      "*\n"
     ]
    }
   ],
   "source": [
    "# *****\n",
    "# ****\n",
    "# ***\n",
    "# **\n",
    "# *\n",
    "\n",
    "# num = 5\n",
    "# for i in range(num, 0, -1):\n",
    "#     print('*' * i)"
   ]
  },
  {
   "cell_type": "code",
   "execution_count": 98,
   "id": "b928a942",
   "metadata": {},
   "outputs": [
    {
     "name": "stdout",
     "output_type": "stream",
     "text": [
      "     *\n",
      "    **\n",
      "   ***\n",
      "  ****\n",
      " *****\n"
     ]
    }
   ],
   "source": [
    "#     *\n",
    "#    **\n",
    "#   ***\n",
    "#  ****\n",
    "# *****\n",
    "\n",
    "num = 5\n",
    "for i in range(1, num+1):\n",
    "    print(' ' * (num-i), '*' * i)"
   ]
  },
  {
   "cell_type": "code",
   "execution_count": 102,
   "id": "dc2299fd",
   "metadata": {},
   "outputs": [],
   "source": [
    "# 1 2 3 4 5\n",
    "# 6 7 8 9 10\n",
    "\n",
    "# num = 50\n",
    "# for i in range(1, num+1):\n",
    "#     print(i, end = \" \")\n",
    "#     if(i % 5 == 0):\n",
    "#         print()\n",
    "    "
   ]
  },
  {
   "cell_type": "code",
   "execution_count": 105,
   "id": "d9ee41be",
   "metadata": {},
   "outputs": [],
   "source": [
    "# while loop -> indefinite loop\n",
    "\n",
    "# 1 to 10\n",
    "# num = 1\n",
    "\n",
    "# while(num <= 10):\n",
    "#     print(num)\n",
    "#     num += 1"
   ]
  },
  {
   "cell_type": "code",
   "execution_count": 107,
   "id": "d4d0e851",
   "metadata": {},
   "outputs": [
    {
     "name": "stdout",
     "output_type": "stream",
     "text": [
      "C:Desktop~ add\n",
      "adding...\n",
      "C:Desktop~ sub\n",
      "subtracting...\n",
      "C:Desktop~ ndasndkna\n",
      "command not found. Please try again\n",
      "C:Desktop~ exit\n",
      "quitting... tata bye bye...\n"
     ]
    }
   ],
   "source": [
    "# terminal\n",
    "\n",
    "while True:\n",
    "    command = input('C:Desktop~ ')\n",
    "    \n",
    "    if(command == 'add'):\n",
    "        print('adding...')\n",
    "    elif(command == 'sub'):\n",
    "        print('subtracting...')\n",
    "    elif(command == 'exit'):\n",
    "        print('quitting... tata bye bye...')\n",
    "        break\n",
    "    else:\n",
    "        print('command not found. Please try again')"
   ]
  },
  {
   "cell_type": "code",
   "execution_count": 111,
   "id": "d56e470f",
   "metadata": {},
   "outputs": [
    {
     "name": "stdout",
     "output_type": "stream",
     "text": [
      "120\n",
      "5040\n"
     ]
    }
   ],
   "source": [
    "# factorial -> 5! = 1 * 2 * 3 * 4 * 5 = 120\n",
    "\n",
    "num = 5\n",
    "factorial = 1\n",
    "\n",
    "for i in range(2, num+1):\n",
    "    factorial = factorial * i\n",
    "print(factorial)\n",
    "\n",
    "# ...lines of code\n",
    "\n",
    "num = 7\n",
    "factorial = 1\n",
    "\n",
    "for i in range(2, num+1):\n",
    "    factorial = factorial * i\n",
    "print(factorial)\n"
   ]
  },
  {
   "cell_type": "code",
   "execution_count": 118,
   "id": "b49db804",
   "metadata": {},
   "outputs": [
    {
     "name": "stdout",
     "output_type": "stream",
     "text": [
      "120\n"
     ]
    }
   ],
   "source": [
    "# variables, class -> Nouns\n",
    "# function -> action verbs\n",
    "\n",
    "def get_factorial(num):\n",
    "    factorial = 1\n",
    "    for i in range(2, num+1):\n",
    "        factorial = factorial * i\n",
    "#     print(factorial)\n",
    "    return factorial\n",
    "\n",
    "# need to make a function call or invoke a function\n",
    "\n",
    "result = get_factorial(5)\n",
    "print(result)\n",
    "# get_factorial(7)"
   ]
  },
  {
   "cell_type": "code",
   "execution_count": 5,
   "id": "0a4a8c2f",
   "metadata": {},
   "outputs": [
    {
     "name": "stdout",
     "output_type": "stream",
     "text": [
      "['sam', 'ram'] rom\n"
     ]
    }
   ],
   "source": [
    "names = ['sam', 'ram', 'rom']\n",
    "# result = names.pop(1)\n",
    "# result = names.append('vasi')\n",
    "# result = names.sort()\n",
    "result = names.pop()\n",
    "print(names, result)"
   ]
  },
  {
   "cell_type": "code",
   "execution_count": 15,
   "id": "f0f5a45d",
   "metadata": {},
   "outputs": [],
   "source": [
    "# default args\n",
    "\n",
    "def get_sum(num1 = 0, num2 = 0):\n",
    "    return num1 + num2\n",
    "\n",
    "# print(get_sum(10, 20))\n",
    "# print(get_sum(10))\n",
    "# print(get_sum())\n",
    "# print(get_sum(10, 20, 30))"
   ]
  },
  {
   "cell_type": "code",
   "execution_count": 22,
   "id": "03780c21",
   "metadata": {},
   "outputs": [
    {
     "name": "stdout",
     "output_type": "stream",
     "text": [
      "vasi\n",
      "30\n"
     ]
    }
   ],
   "source": [
    "# *arguments -> *args\n",
    "\n",
    "def get_sum(name, *nums):\n",
    "#     print(nums) # tuple\n",
    "    print(name)\n",
    "    total = 0\n",
    "    for num in nums:\n",
    "        total += num\n",
    "    return total\n",
    "    \n",
    "print(get_sum('vasi', 10, 20))\n",
    "# print(get_sum(10))\n",
    "# print(get_sum())\n",
    "# print(get_sum(10, 20, 30))"
   ]
  },
  {
   "cell_type": "code",
   "execution_count": 29,
   "id": "2e3d78b6",
   "metadata": {},
   "outputs": [
    {
     "ename": "TypeError",
     "evalue": "welcome() got an unexpected keyword argument 'place'",
     "output_type": "error",
     "traceback": [
      "\u001b[0;31m---------------------------------------------------------------------------\u001b[0m",
      "\u001b[0;31mTypeError\u001b[0m                                 Traceback (most recent call last)",
      "Cell \u001b[0;32mIn[29], line 10\u001b[0m\n\u001b[1;32m      2\u001b[0m     \u001b[38;5;28;01mreturn\u001b[39;00m \u001b[38;5;124mf\u001b[39m\u001b[38;5;124m'\u001b[39m\u001b[38;5;124mWelcome to Intellipaat \u001b[39m\u001b[38;5;132;01m{\u001b[39;00mname\u001b[38;5;132;01m}\u001b[39;00m\u001b[38;5;124m. Your id is \u001b[39m\u001b[38;5;132;01m{\u001b[39;00mroll_no\u001b[38;5;132;01m}\u001b[39;00m\u001b[38;5;124m'\u001b[39m\n\u001b[1;32m      4\u001b[0m \u001b[38;5;66;03m# print(welcome('virat', 18))\u001b[39;00m\n\u001b[1;32m      5\u001b[0m \u001b[38;5;66;03m# print(welcome('virat'))\u001b[39;00m\n\u001b[1;32m      6\u001b[0m \u001b[38;5;66;03m# print(welcome())\u001b[39;00m\n\u001b[1;32m      7\u001b[0m \n\u001b[1;32m      8\u001b[0m \u001b[38;5;66;03m# keyword arguments\u001b[39;00m\n\u001b[1;32m      9\u001b[0m \u001b[38;5;66;03m# print(welcome(roll_no = 18, name = 'virat'))\u001b[39;00m\n\u001b[0;32m---> 10\u001b[0m \u001b[38;5;28mprint\u001b[39m(welcome(roll_no \u001b[38;5;241m=\u001b[39m \u001b[38;5;241m18\u001b[39m, name \u001b[38;5;241m=\u001b[39m \u001b[38;5;124m'\u001b[39m\u001b[38;5;124mvirat\u001b[39m\u001b[38;5;124m'\u001b[39m, place \u001b[38;5;241m=\u001b[39m \u001b[38;5;124m'\u001b[39m\u001b[38;5;124mchennai\u001b[39m\u001b[38;5;124m'\u001b[39m))\n",
      "\u001b[0;31mTypeError\u001b[0m: welcome() got an unexpected keyword argument 'place'"
     ]
    }
   ],
   "source": [
    "def welcome(name = 'Guest', roll_no = -1):\n",
    "    return f'Welcome to Intellipaat {name}. Your id is {roll_no}'\n",
    "\n",
    "# print(welcome('virat', 18))\n",
    "# print(welcome('virat'))\n",
    "# print(welcome())\n",
    "\n",
    "# keyword arguments\n",
    "# print(welcome(roll_no = 18, name = 'virat'))\n",
    "print(welcome(roll_no = 18, name = 'virat', place = 'chennai'))"
   ]
  },
  {
   "cell_type": "code",
   "execution_count": 36,
   "id": "53006b2a",
   "metadata": {},
   "outputs": [
    {
     "name": "stdout",
     "output_type": "stream",
     "text": [
      "Welcome to Intellipaat None. Your id is None\n"
     ]
    }
   ],
   "source": [
    "# **kwargs -> **keyword arguments\n",
    "\n",
    "def welcome(**data):\n",
    "#     print(data)\n",
    "    return f\"Welcome to Intellipaat {data.get('name')}. Your id is {data.get('roll_no')}\"\n",
    "\n",
    "# print(welcome(roll_no = 18, name = 'virat', place = 'chennai'))\n",
    "# print(welcome('virat', 18)) # throws TypeError"
   ]
  },
  {
   "cell_type": "code",
   "execution_count": 37,
   "id": "30967179",
   "metadata": {},
   "outputs": [
    {
     "data": {
      "text/plain": [
       "30"
      ]
     },
     "execution_count": 37,
     "metadata": {},
     "output_type": "execute_result"
    }
   ],
   "source": [
    "# modules \n",
    "\n",
    "def get_sum(n1, n2):\n",
    "    return n1 + n2\n",
    "\n",
    "get_sum(10, 20)"
   ]
  },
  {
   "cell_type": "code",
   "execution_count": 42,
   "id": "a3ebcc7c",
   "metadata": {},
   "outputs": [
    {
     "name": "stdout",
     "output_type": "stream",
     "text": [
      "10\n",
      "200\n",
      "10\n"
     ]
    }
   ],
   "source": [
    "import arithmetic as a\n",
    "\n",
    "print(arithmetic.get_sub(20, 10))\n",
    "print(arithmetic.get_mul(20, 10))\n",
    "print(a.get_sub(30, 20))"
   ]
  },
  {
   "cell_type": "code",
   "execution_count": 44,
   "id": "ce6d18e2",
   "metadata": {},
   "outputs": [],
   "source": [
    "# from arithmetic import get_rem\n",
    "\n",
    "# print(get_rem(5, 3))\n",
    "\n",
    "\n",
    "# from maths.arithmetic import get_rem\n",
    "# print(get_rem(5, 3))\n",
    "\n",
    "# from maths.algebra.eqts.arithmetic import get_rem"
   ]
  },
  {
   "cell_type": "code",
   "execution_count": 47,
   "id": "0651b1c4",
   "metadata": {},
   "outputs": [
    {
     "data": {
      "text/plain": [
       "120"
      ]
     },
     "execution_count": 47,
     "metadata": {},
     "output_type": "execute_result"
    }
   ],
   "source": [
    "import math # in-built methods\n",
    "math.factorial(5)"
   ]
  },
  {
   "cell_type": "code",
   "execution_count": 51,
   "id": "2213b4c6",
   "metadata": {},
   "outputs": [
    {
     "name": "stdout",
     "output_type": "stream",
     "text": [
      "19 2 52\n"
     ]
    }
   ],
   "source": [
    "# nums = [10, 2, 8, 19, 13]\n",
    "# print(max(nums), min(nums), sum(nums))"
   ]
  },
  {
   "cell_type": "code",
   "execution_count": 54,
   "id": "ede735af",
   "metadata": {},
   "outputs": [
    {
     "name": "stdout",
     "output_type": "stream",
     "text": [
      "False\n",
      "True\n"
     ]
    }
   ],
   "source": [
    "# lambda -> 1 line functions\n",
    "\n",
    "# def is_even(num):\n",
    "#     return num % 2 == 0\n",
    "\n",
    "# is_even = lambda num: (num%2 == 0)\n",
    "\n",
    "# print(is_even(5))\n",
    "# print(is_even(6))"
   ]
  },
  {
   "cell_type": "code",
   "execution_count": 56,
   "id": "b69cd03e",
   "metadata": {},
   "outputs": [
    {
     "name": "stdout",
     "output_type": "stream",
     "text": [
      "3\n",
      "6\n",
      "9\n",
      "12\n",
      "15\n"
     ]
    }
   ],
   "source": [
    "nums = [1, 2, 3, 4, 5]\n",
    "factor = 3\n",
    "\n",
    "new_num = lambda num, factor: num * factor\n",
    "\n",
    "# for num in nums:\n",
    "#     print(new_num(num, factor))"
   ]
  },
  {
   "cell_type": "code",
   "execution_count": 59,
   "id": "c53da048",
   "metadata": {},
   "outputs": [
    {
     "name": "stdout",
     "output_type": "stream",
     "text": [
      "[3, 6, 9, 12, 15]\n"
     ]
    }
   ],
   "source": [
    "nums = [1, 2, 3, 4, 5]\n",
    "factor = 3\n",
    "\n",
    "new_nums = lambda nums, factor: [num * factor for num in nums]\n",
    "print(new_nums(nums, factor))"
   ]
  },
  {
   "cell_type": "code",
   "execution_count": 64,
   "id": "cd3053df",
   "metadata": {},
   "outputs": [
    {
     "name": "stdout",
     "output_type": "stream",
     "text": [
      "[2, 4, 6, 8, 10, 12, 14, 16, 18, 20, 22, 24, 26, 28, 30, 32, 34, 36, 38, 40, 42, 44, 46, 48, 50]\n"
     ]
    }
   ],
   "source": [
    "nums = list(range(1, 51))\n",
    "\n",
    "# even_nums = [num for num in nums if num % 2 == 0]\n",
    "\n",
    "even_nums = []\n",
    "for num in nums:\n",
    "    if(num % 2 == 0):\n",
    "        even_nums.append(num)\n",
    "\n",
    "print(even_nums)"
   ]
  },
  {
   "cell_type": "code",
   "execution_count": null,
   "id": "086c5bb4",
   "metadata": {},
   "outputs": [],
   "source": []
  },
  {
   "cell_type": "code",
   "execution_count": null,
   "id": "e483e98c",
   "metadata": {},
   "outputs": [],
   "source": []
  }
 ],
 "metadata": {
  "kernelspec": {
   "display_name": "Python 3 (ipykernel)",
   "language": "python",
   "name": "python3"
  },
  "language_info": {
   "codemirror_mode": {
    "name": "ipython",
    "version": 3
   },
   "file_extension": ".py",
   "mimetype": "text/x-python",
   "name": "python",
   "nbconvert_exporter": "python",
   "pygments_lexer": "ipython3",
   "version": "3.11.4"
  }
 },
 "nbformat": 4,
 "nbformat_minor": 5
}

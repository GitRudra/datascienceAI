{
 "cells": [
  {
   "cell_type": "code",
   "execution_count": 1,
   "id": "17961e0a",
   "metadata": {},
   "outputs": [],
   "source": [
    "# Python -> Just In Time Compilation (both interpretation and compilation)"
   ]
  },
  {
   "cell_type": "code",
   "execution_count": 4,
   "id": "3b7f3ce5",
   "metadata": {},
   "outputs": [
    {
     "data": {
      "text/plain": [
       "'0x78'"
      ]
     },
     "execution_count": 4,
     "metadata": {},
     "output_type": "execute_result"
    }
   ],
   "source": [
    "# bin(132)\n",
    "# hex(120)"
   ]
  },
  {
   "cell_type": "code",
   "execution_count": 6,
   "id": "9b00d9f3",
   "metadata": {},
   "outputs": [
    {
     "name": "stdout",
     "output_type": "stream",
     "text": [
      "15\n"
     ]
    }
   ],
   "source": [
    "# print('Welcome to Intellipaat....')\n",
    "# print(10 + 5)"
   ]
  },
  {
   "cell_type": "code",
   "execution_count": 10,
   "id": "80ae9610",
   "metadata": {},
   "outputs": [
    {
     "name": "stdout",
     "output_type": "stream",
     "text": [
      "10 4306904256\n",
      "20 4306904576\n"
     ]
    }
   ],
   "source": [
    "# variable\n",
    "num = 10\n",
    "print(num, id(num)) # id -> address\n",
    "num = 20\n",
    "print(num, id(num))"
   ]
  },
  {
   "cell_type": "code",
   "execution_count": null,
   "id": "e0f34c86",
   "metadata": {},
   "outputs": [],
   "source": [
    "# c, c++, java -> static programming langs\n",
    "# int num = 10\n",
    "# num = 'vasanth' # error"
   ]
  },
  {
   "cell_type": "code",
   "execution_count": 12,
   "id": "f9e9969d",
   "metadata": {},
   "outputs": [
    {
     "name": "stdout",
     "output_type": "stream",
     "text": [
      "10 4306904256\n",
      "vasanth 4376734000\n"
     ]
    }
   ],
   "source": [
    "# dynamic programming language\n",
    "num = 10\n",
    "print(num, id(num))\n",
    "num = 'vasanth'\n",
    "print(num, id(num))"
   ]
  },
  {
   "cell_type": "code",
   "execution_count": 19,
   "id": "53ce32e7",
   "metadata": {},
   "outputs": [
    {
     "name": "stdout",
     "output_type": "stream",
     "text": [
      "10 <class 'int'>\n",
      "10.56 <class 'float'>\n",
      "vasanth <class 'str'>\n",
      "True <class 'bool'>\n",
      "(3+2j) <class 'complex'>\n"
     ]
    }
   ],
   "source": [
    "# datatypes\n",
    "num = 10\n",
    "print(num, type(num)) # -> int => 4 bytes\n",
    "num = 10.56\n",
    "print(num, type(num)) # float -> 8 bytes\n",
    "num = 'vasanth'\n",
    "print(num, type(num)) # str -> 1 char -> 1 byte\n",
    "num = True # False\n",
    "print(num, type(num)) # bool -> 1 byte\n",
    "num = 2j + 3\n",
    "print(num, type(num))"
   ]
  },
  {
   "cell_type": "code",
   "execution_count": 31,
   "id": "22b7f5f4",
   "metadata": {},
   "outputs": [
    {
     "name": "stdout",
     "output_type": "stream",
     "text": [
      "10 4306904256\n",
      "10 4306904256\n",
      "10 4306904256\n",
      "10 4306904256\n"
     ]
    }
   ],
   "source": [
    "# Python -> memory efficient\n",
    "num1 = 10\n",
    "print(num1, id(num1))\n",
    "num2 = 3 + 7\n",
    "print(num2, id(num2))\n",
    "num3 = 5 + 5\n",
    "print(num3, id(num3))\n",
    "num4 = 4 + 6\n",
    "print(num4, id(num4))\n",
    "\n",
    "# num2 = 50\n",
    "# print(num2, id(num2))"
   ]
  },
  {
   "cell_type": "code",
   "execution_count": 30,
   "id": "e6fd7d4f",
   "metadata": {},
   "outputs": [
    {
     "name": "stdout",
     "output_type": "stream",
     "text": [
      "-6 4376579760\n",
      "-6 4376577456\n"
     ]
    }
   ],
   "source": [
    "#  -5 to 256 -> interning\n",
    "\n",
    "# num1 = 257\n",
    "# print(num1, id(num1))\n",
    "# num2 = 257\n",
    "# print(num2, id(num2))\n",
    "\n",
    "num1 = -6\n",
    "print(num1, id(num1))\n",
    "num2 = -6\n",
    "print(num2, id(num2))"
   ]
  },
  {
   "cell_type": "code",
   "execution_count": 42,
   "id": "2f99bd84",
   "metadata": {},
   "outputs": [
    {
     "name": "stdout",
     "output_type": "stream",
     "text": [
      "vasanth kumars 4377862000\n",
      "vasanth kumar 4377861424\n"
     ]
    }
   ],
   "source": [
    "# explicit interning\n",
    "\n",
    "import sys # system\n",
    "\n",
    "fname = sys.intern('vasanth kumars') # variable syntax -> reuse the same memory\n",
    "print(fname, id(fname))\n",
    "lname = sys.intern('vasanth kumar')\n",
    "print(lname, id(lname))"
   ]
  },
  {
   "cell_type": "code",
   "execution_count": 50,
   "id": "1954aa45",
   "metadata": {},
   "outputs": [
    {
     "name": "stdout",
     "output_type": "stream",
     "text": [
      "13\n",
      "7\n",
      "30\n",
      "3.3333333333333335\n",
      "3\n",
      "1\n",
      "1000\n"
     ]
    }
   ],
   "source": [
    "# Operators and Operands\n",
    "\n",
    "# a = 10 + 5\n",
    "# a, 10, 5 -> operands\n",
    "# +, = -> operators\n",
    "\n",
    "# Arithmetic operators -> +, -, *, /, //, %, **\n",
    "print(10 + 3)\n",
    "print(10 - 3)\n",
    "print(10 * 3)\n",
    "print(10 / 3) # float\n",
    "print(10 // 3) # double or floor division\n",
    "print(10 % 3) # modulo -> remainder\n",
    "print(10 ** 3) # exponetial -> 10 ^ 3"
   ]
  },
  {
   "cell_type": "code",
   "execution_count": 51,
   "id": "623d13bc",
   "metadata": {},
   "outputs": [
    {
     "name": "stdout",
     "output_type": "stream",
     "text": [
      "1\n",
      "2\n"
     ]
    }
   ],
   "source": [
    "print(13 % 3) # 1\n",
    "print(-13 % 3) # exptected is -1 but we got 2"
   ]
  },
  {
   "cell_type": "code",
   "execution_count": 65,
   "id": "fdea8ed0",
   "metadata": {},
   "outputs": [],
   "source": [
    "# num = (div * quo) + rem\n",
    "# 13 = (3 * 4) + 1\n",
    "# -13 = (3 * -4) + (-1) # expected\n",
    "# -13 = (3 * -5) + (2)"
   ]
  },
  {
   "cell_type": "code",
   "execution_count": 64,
   "id": "badf1b0c",
   "metadata": {},
   "outputs": [
    {
     "name": "stdout",
     "output_type": "stream",
     "text": [
      "-5\n"
     ]
    }
   ],
   "source": [
    "import math\n",
    "\n",
    "# print(math.floor(4.33333333))\n",
    "# print(math.ceil(4.33333333))\n",
    "# print(math.floor(4.9999999999999999)) # 15 decimal pts\n",
    "# print(math.ceil(4.0000000000000001))\n",
    "\n",
    "# print(-13 / 3) # -4.3333333\n",
    "# print(math.floor(-4.33333333))\n",
    "# print(math.ceil(-4.33333333))\n",
    "\n",
    "# print(-13 // 3) # quotient"
   ]
  },
  {
   "cell_type": "code",
   "execution_count": null,
   "id": "374474c0",
   "metadata": {},
   "outputs": [],
   "source": [
    "# Assignment operator, =\n",
    "# a = 10\n",
    "\n",
    "# a = 10\n",
    "# a += 5 # same as ->  a = a + 5\n",
    "# a -= 5\n",
    "# a *= 5\n",
    "# a /= 5\n",
    "# a //= 5\n",
    "# a %= 5\n",
    "# a **= 5"
   ]
  },
  {
   "cell_type": "code",
   "execution_count": 95,
   "id": "7864f9e2",
   "metadata": {},
   "outputs": [
    {
     "name": "stdout",
     "output_type": "stream",
     "text": [
      "True\n"
     ]
    }
   ],
   "source": [
    "# comparison operators are >, <, <=, >=, == , != -> Boolean\n",
    "# print(10 > 5)\n",
    "# print(10 < 5)\n",
    "# print(10 >= 5)\n",
    "# print(10 <= 5)\n",
    "# print(10 == 5)\n",
    "# print(10 != 5)\n",
    "\n",
    "# bool with int\n",
    "# True -> 1, False -> 0\n",
    "# print(True > 5) # 1 > 5\n",
    "# print(10 + True - 5)\n",
    "# print(10 - False)\n",
    "\n",
    "# str with int\n",
    "# print('vasi' > 5) # TypeError\n",
    "\n",
    "# str with str\n",
    "# print(\"vasi\" > \"kumar\")\n",
    "# print(\"Vasi\" > \"kumar\")\n",
    "\n",
    "# print('vasa' > 'vasi')"
   ]
  },
  {
   "cell_type": "code",
   "execution_count": 87,
   "id": "5b65dd0c",
   "metadata": {},
   "outputs": [
    {
     "name": "stdout",
     "output_type": "stream",
     "text": [
      "True <class 'bool'>\n",
      "False <class 'bool'>\n"
     ]
    }
   ],
   "source": [
    "# typecasting\n",
    "# num = 10\n",
    "# print(num, type(num))\n",
    "# num = str(num)\n",
    "# print(num, type(num))\n",
    "# num = float(num)\n",
    "# print(num, type(num))\n",
    "\n",
    "num = bool(-10.5) # integers except 0 -> True\n",
    "print(num, type(num))\n",
    "\n",
    "num = bool(0) # 0 -> False\n",
    "print(num, type(num))"
   ]
  },
  {
   "cell_type": "code",
   "execution_count": 115,
   "id": "27951974",
   "metadata": {},
   "outputs": [
    {
     "name": "stdout",
     "output_type": "stream",
     "text": [
      "False\n"
     ]
    }
   ],
   "source": [
    "# logical operator -> and, or, not\n",
    "# and => both are True\n",
    "# or -> any one is True \n",
    "# not -> True to False or vice versa\n",
    "\n",
    "# age = 17\n",
    "# voter_id = False\n",
    "# # print(voter_id == True and age >= 18)\n",
    "# # print(voter_id == True or age >= 18)\n",
    "# print(not(10 > 5))\n",
    "\n",
    "# short circuiting\n",
    "# if(10 > 15 and print('vasanth')):\n",
    "#     print('if')\n",
    "# else:\n",
    "#     print('else')\n",
    "\n",
    "\n",
    "# if(10 > 5 or print('vasanth')):\n",
    "#     print('if')\n",
    "# else:\n",
    "#     print('else')\n",
    "\n",
    "\n",
    "# age = 100\n",
    "# is_eligible = (age > 18) and False and 'vasanth'\n",
    "# print(is_eligible)"
   ]
  },
  {
   "cell_type": "code",
   "execution_count": 121,
   "id": "1716e504",
   "metadata": {},
   "outputs": [
    {
     "name": "stdout",
     "output_type": "stream",
     "text": [
      "4414993840 4414990672\n",
      "True\n"
     ]
    }
   ],
   "source": [
    "# identity operators (compares address) -> is\n",
    "num1 = 1000\n",
    "num2 = 1000\n",
    "print(id(num1), id(num2))\n",
    "# print(num1 is num2, num1 == num2)\n",
    "print(num1 is not num2)"
   ]
  },
  {
   "cell_type": "code",
   "execution_count": 128,
   "id": "ca51d9d7",
   "metadata": {},
   "outputs": [
    {
     "name": "stdout",
     "output_type": "stream",
     "text": [
      "True\n"
     ]
    }
   ],
   "source": [
    "# membership operators -> in\n",
    "news = 'India will win the world cup 2024'\n",
    "# print(\"India\" in news)\n",
    "# print(\"india\" in news) # case sensitive\n",
    "print('australia' not in news)"
   ]
  },
  {
   "cell_type": "code",
   "execution_count": 137,
   "id": "ace488ff",
   "metadata": {},
   "outputs": [
    {
     "name": "stdout",
     "output_type": "stream",
     "text": [
      "vasanth*kumar*vinayagam\n"
     ]
    }
   ],
   "source": [
    "# print\n",
    "# print('vasanth', end=' ')\n",
    "# print('kumar')\n",
    "\n",
    "# print(\"vasanth\", \"kumar\", \"vinayagam\", sep='*')"
   ]
  },
  {
   "cell_type": "code",
   "execution_count": 143,
   "id": "118c7663",
   "metadata": {},
   "outputs": [],
   "source": [
    "# print(10 * 3)\n",
    "# print('vasi' * 2)\n",
    "# print('vasi' / 2)"
   ]
  },
  {
   "cell_type": "code",
   "execution_count": null,
   "id": "e81de8c2",
   "metadata": {},
   "outputs": [],
   "source": []
  },
  {
   "cell_type": "code",
   "execution_count": null,
   "id": "9eeaee71",
   "metadata": {},
   "outputs": [],
   "source": []
  },
  {
   "cell_type": "code",
   "execution_count": null,
   "id": "fe73c7b9",
   "metadata": {},
   "outputs": [],
   "source": []
  },
  {
   "cell_type": "code",
   "execution_count": null,
   "id": "f0544d12",
   "metadata": {},
   "outputs": [],
   "source": []
  },
  {
   "cell_type": "code",
   "execution_count": null,
   "id": "1b68594b",
   "metadata": {},
   "outputs": [],
   "source": []
  }
 ],
 "metadata": {
  "kernelspec": {
   "display_name": "Python 3 (ipykernel)",
   "language": "python",
   "name": "python3"
  },
  "language_info": {
   "codemirror_mode": {
    "name": "ipython",
    "version": 3
   },
   "file_extension": ".py",
   "mimetype": "text/x-python",
   "name": "python",
   "nbconvert_exporter": "python",
   "pygments_lexer": "ipython3",
   "version": "3.11.4"
  }
 },
 "nbformat": 4,
 "nbformat_minor": 5
}

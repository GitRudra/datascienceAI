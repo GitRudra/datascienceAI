{
 "cells": [
  {
   "cell_type": "markdown",
   "metadata": {},
   "source": [
    "Q1. Write a Python program to demonstrate multiple inheritance.\n",
    "1. Employee class has 3 data members EmployeeID, Gender (String), Salary and\n",
    "PerformanceRating(Out of 5) of type int. It has a get() function to get these details from\n",
    "the user.\n",
    "2. JoiningDetail class has a data member DateOfJoining of type Date and a function\n",
    "getDoJ to get the Date of joining of employees.\n",
    "3. Information Class uses the marks from Employee class and the DateOfJoining date\n",
    "from the JoiningDetail class to calculate the top 3 Employees based on their Ratings\n",
    "and then Display, using readData, all the details on these employees in Ascending\n",
    "order of their Date Of Joining."
   ]
  },
  {
   "cell_type": "code",
   "execution_count": 15,
   "metadata": {},
   "outputs": [
    {
     "ename": "TypeError",
     "evalue": "Employee.__init__() missing 4 required positional arguments: 'employeeId', 'gender', 'salary', and 'performance_rating'",
     "output_type": "error",
     "traceback": [
      "\u001b[1;31m---------------------------------------------------------------------------\u001b[0m",
      "\u001b[1;31mTypeError\u001b[0m                                 Traceback (most recent call last)",
      "Cell \u001b[1;32mIn[15], line 38\u001b[0m\n\u001b[0;32m     35\u001b[0m         \u001b[38;5;28mprint\u001b[39m(\u001b[38;5;124m'\u001b[39m\u001b[38;5;124mJoining Details : \u001b[39m\u001b[38;5;124m'\u001b[39m, \u001b[38;5;28mself\u001b[39m\u001b[38;5;241m.\u001b[39m\u001b[38;5;18m__dict__\u001b[39m)\n\u001b[0;32m     37\u001b[0m \u001b[38;5;66;03m# employee1 = Employee('001', 'Female', 2500000, 5)\u001b[39;00m\n\u001b[1;32m---> 38\u001b[0m emp1 \u001b[38;5;241m=\u001b[39m Employee()\n\u001b[0;32m     39\u001b[0m emp1\u001b[38;5;241m.\u001b[39mget()\n",
      "\u001b[1;31mTypeError\u001b[0m: Employee.__init__() missing 4 required positional arguments: 'employeeId', 'gender', 'salary', and 'performance_rating'"
     ]
    }
   ],
   "source": [
    "from datetime import date, datetime\n",
    "\n",
    "class Employee:\n",
    "    def __init__(self, employeeId : str,  gender : str, salary : int, performance_rating: int):\n",
    "        self.employeId = employeeId\n",
    "        # self.name = name\n",
    "        self.gender = gender\n",
    "        self.salary = salary\n",
    "        self.performance_rating = performance_rating\n",
    "       \n",
    "        \n",
    "    def __init__(self):\n",
    "        self.employeId = ''\n",
    "        \n",
    "    def get(self):\n",
    "        self.employeId = input('Enter the employee id : ')\n",
    "        self.gender = input('Enter your gender: ')\n",
    "        self.salary = int(input('Enter your salary: '))\n",
    "        self.performance_rating = int(input('Enter your performance rating: '))\n",
    "        self.joining_detail = JoiningDetail()\n",
    "        self.joining_detail.getDoJ()\n",
    "        # print('Entered details : ', self.__dict__)\n",
    "    def read_data(self):\n",
    "        print('employee_details : ', self.__dict__)\n",
    "    \n",
    "class JoiningDetail:\n",
    "    \n",
    "    # Method to take input from the user\n",
    "    def getDoJ(self):\n",
    "        date_entry = input('Enter a date in YYYY-MM-DD format: ')\n",
    "        year, month, day = map(int, date_entry.split('-'))\n",
    "        self.joining_date = date(year=year, month=month, day=day)\n",
    "    \n",
    "    # Method to print the values of class properties\n",
    "    def read_data(self):\n",
    "        print('Joining Details : ', self.__dict__)\n",
    "\n",
    "\n",
    "class Information:\n",
    "    def __init__(self) -> None:\n",
    "        pass\n",
    "    \n",
    "    def __init_subclass__(cls) -> None:\n",
    "        pass\n",
    "# employee1 = Employee('001', 'Female', 2500000, 5)\n",
    "emp1 = Employee()\n",
    "emp1.get()"
   ]
  }
 ],
 "metadata": {
  "kernelspec": {
   "display_name": "base",
   "language": "python",
   "name": "python3"
  },
  "language_info": {
   "codemirror_mode": {
    "name": "ipython",
    "version": 3
   },
   "file_extension": ".py",
   "mimetype": "text/x-python",
   "name": "python",
   "nbconvert_exporter": "python",
   "pygments_lexer": "ipython3",
   "version": "3.11.5"
  }
 },
 "nbformat": 4,
 "nbformat_minor": 2
}

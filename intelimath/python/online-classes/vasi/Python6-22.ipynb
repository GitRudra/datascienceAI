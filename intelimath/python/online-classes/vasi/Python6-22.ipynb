{
 "cells": [
  {
   "cell_type": "code",
   "execution_count": 1,
   "id": "fc6e411a",
   "metadata": {},
   "outputs": [],
   "source": [
    "# Datatypes, variables, operators, strings, collections, conditional statements, loops\n",
    "# functions, modules, lambda"
   ]
  },
  {
   "cell_type": "code",
   "execution_count": 2,
   "id": "045a413a",
   "metadata": {},
   "outputs": [],
   "source": [
    "# Paradigm -> ways of writing the program\n",
    "# 1. Procedural Programming\n",
    "# 2. Functional Programming\n",
    "# 3. Object Oriented Programming structure (OOPs)"
   ]
  },
  {
   "cell_type": "code",
   "execution_count": 5,
   "id": "857abc32",
   "metadata": {},
   "outputs": [
    {
     "name": "stdout",
     "output_type": "stream",
     "text": [
      "Enter the username: devi\n",
      "Enter the password: 1234\n",
      "Logged in successfully\n"
     ]
    }
   ],
   "source": [
    "# Procedural Programming -> Fortran, basic, Pascal, C\n",
    "\n",
    "username = input('Enter the username: ')\n",
    "password = input('Enter the password: ')\n",
    "# API call (Application Programming Interface)\n",
    "original_username = 'devi'\n",
    "original_password = '1234'\n",
    "\n",
    "if(username == original_username and password == original_password):\n",
    "    print('Logged in successfully')\n",
    "else:\n",
    "    print('Invalid username or password')\n",
    "    \n",
    "    \n",
    "# .... lines of code\n",
    "\n",
    "\n",
    "username = input('Enter the username: ')\n",
    "password = input('Enter the password: ')\n",
    "# API call (Application Programming Interface)\n",
    "original_username = 'devi'\n",
    "original_password = '1234'\n",
    "\n",
    "if(username == original_username and password == original_password):\n",
    "    print('Logged in successfully')\n",
    "else:\n",
    "    print('Invalid username or password')\n",
    "    "
   ]
  },
  {
   "cell_type": "code",
   "execution_count": 8,
   "id": "164b539f",
   "metadata": {},
   "outputs": [
    {
     "name": "stdout",
     "output_type": "stream",
     "text": [
      "Enter the username: rudra\n",
      "Enter the password: 3456\n",
      "Invalid username or password\n",
      "Enter the username: devi\n",
      "Enter the password: 1234\n",
      "Logged in successfully\n"
     ]
    }
   ],
   "source": [
    "# functional programming -> pass fn as a parameter or return fn from another fn\n",
    "\n",
    "def validate(username, password):\n",
    "    # API call (Application Programming Interface)\n",
    "    original_username = 'devi'\n",
    "    original_password = '1234'\n",
    "\n",
    "    if(username == original_username and password == original_password):\n",
    "        print('Logged in successfully')\n",
    "    else:\n",
    "        print('Invalid username or password')\n",
    "\n",
    "\n",
    "def login():\n",
    "    username = input('Enter the username: ')\n",
    "    password = input('Enter the password: ')\n",
    "    validate(username, password)\n",
    "\n",
    "login()\n",
    "login()"
   ]
  },
  {
   "cell_type": "code",
   "execution_count": 19,
   "id": "5368d5e2",
   "metadata": {},
   "outputs": [
    {
     "name": "stdout",
     "output_type": "stream",
     "text": [
      "25\n",
      "50\n",
      "25.0\n"
     ]
    }
   ],
   "source": [
    "def square(side):\n",
    "    return side * side\n",
    "\n",
    "def rectangle(length, width):\n",
    "    return length * width\n",
    "\n",
    "def triangle(base, height):\n",
    "    return 0.5 * base * height\n",
    "\n",
    "def area(shape, *params): # area -> higher order function (which takes another fn -> shape as a param)\n",
    "#     print(*params) # tuple to normal values \n",
    "    total_area = shape(*params)\n",
    "    return total_area\n",
    "    \n",
    "print(area(square, 5))\n",
    "print(area(rectangle, 5, 10))\n",
    "print(area(triangle, 5, 10))"
   ]
  },
  {
   "cell_type": "code",
   "execution_count": 23,
   "id": "8cf48400",
   "metadata": {},
   "outputs": [
    {
     "name": "stdout",
     "output_type": "stream",
     "text": [
      "calling inner fn\n"
     ]
    }
   ],
   "source": [
    "# closure\n",
    "\n",
    "def outer():\n",
    "    def inner():\n",
    "        print('calling inner fn')\n",
    "    \n",
    "    return inner\n",
    "\n",
    "# outer()()\n",
    "\n",
    "child = outer()\n",
    "child()"
   ]
  },
  {
   "cell_type": "code",
   "execution_count": 47,
   "id": "a3cd0d6f",
   "metadata": {},
   "outputs": [],
   "source": [
    "# def parent():\n",
    "#     count = 1\n",
    "#     def inner():\n",
    "#         temp = count\n",
    "#         print('count', temp)\n",
    "#         if(count % 3 == 0):\n",
    "#             print('display')\n",
    "#         temp += 1\n",
    "#     return inner\n",
    "\n",
    "# # display()()() # function chaining\n",
    "# display = parent()\n",
    "# display()\n",
    "# display()\n",
    "# display()"
   ]
  },
  {
   "cell_type": "code",
   "execution_count": 2,
   "id": "99526ffa",
   "metadata": {},
   "outputs": [
    {
     "name": "stdout",
     "output_type": "stream",
     "text": [
      "validating username and password vasanth 1234 10\n"
     ]
    }
   ],
   "source": [
    "def wrapper(age):\n",
    "    username = 'vasanth'\n",
    "    password = '1234'\n",
    "    \n",
    "    def validate():\n",
    "        print('validating username and password', username, password, age)\n",
    "        \n",
    "    return validate\n",
    "\n",
    "check = wrapper(10)\n",
    "check()"
   ]
  },
  {
   "cell_type": "code",
   "execution_count": 11,
   "id": "12b97a0f",
   "metadata": {},
   "outputs": [
    {
     "name": "stdout",
     "output_type": "stream",
     "text": [
      "Iphone 15 70000 2 140000\n",
      "Iphone charger 5000 1 5000\n"
     ]
    }
   ],
   "source": [
    "# OOPs -> Object Oriented Programming Structure\n",
    "\n",
    "item = 'Iphone 15'\n",
    "item_price = 70000\n",
    "item_quantity = 2\n",
    "item_total_price = item_price * item_quantity\n",
    "\n",
    "print(item, item_price, item_quantity, item_total_price)\n",
    "\n",
    "item2 = 'Iphone charger'\n",
    "item2_price = 5000\n",
    "item2_quantity = 1\n",
    "item2_total_price = item2_price * item2_quantity\n",
    "\n",
    "print(item2, item2_price, item2_quantity, item2_total_price)"
   ]
  },
  {
   "cell_type": "code",
   "execution_count": 14,
   "id": "b2cb5774",
   "metadata": {},
   "outputs": [
    {
     "name": "stdout",
     "output_type": "stream",
     "text": [
      "<__main__.Human object at 0x10ab59790> <class '__main__.Human'>\n"
     ]
    }
   ],
   "source": [
    "# OOPs\n",
    "# class - user defined structure (rule / blueprint of object)\n",
    "# object - real world entity or instance of a class\n",
    "# properties or attributes - variables inside a class\n",
    "# behaviors or methods - functions inside a class\n",
    "\n",
    "class Human:\n",
    "    # properties\n",
    "    name = 'vasi'\n",
    "    age = 20\n",
    "    \n",
    "    # methods\n",
    "    def eat():\n",
    "        print('eating')\n",
    "        \n",
    "    def walk():\n",
    "        print('walking..')\n",
    "        \n",
    "# create object -> instantiation\n",
    "krishna = Human()\n",
    "vasanth = Human()\n",
    "print(vasanth, type(vasanth))"
   ]
  },
  {
   "cell_type": "code",
   "execution_count": 44,
   "id": "852f2653",
   "metadata": {},
   "outputs": [
    {
     "name": "stdout",
     "output_type": "stream",
     "text": [
      "140000\n",
      "5000\n"
     ]
    }
   ],
   "source": [
    "class Item:\n",
    "    def calculate_total_price(self):\n",
    "#         print('self      ->', self.__dict__)\n",
    "        return self.price * self.quantity\n",
    "    \n",
    "Iphone = Item()\n",
    "Iphone.name = 'Iphone 16'\n",
    "Iphone.price = 70000\n",
    "Iphone.quantity = 2\n",
    "\n",
    "# print(Iphone.name, Iphone.price, Iphone.quantity)\n",
    "# print('iphone ---> ', Iphone.__dict__)\n",
    "\n",
    "# Whenever a method is called, by default, calling object will be passed as 1st parameter\n",
    "print(Iphone.calculate_total_price())\n",
    "\n",
    "\n",
    "charger = Item()\n",
    "charger.name = 'Iphone charger'\n",
    "charger.price = 5000\n",
    "charger.quantity = 1\n",
    "print(charger.calculate_total_price())"
   ]
  },
  {
   "cell_type": "code",
   "execution_count": 23,
   "id": "d84ec887",
   "metadata": {},
   "outputs": [
    {
     "name": "stdout",
     "output_type": "stream",
     "text": [
      "False\n",
      "True\n",
      "True\n",
      "False\n"
     ]
    }
   ],
   "source": [
    "# dunder method -> double underscore method\n",
    "\n",
    "num = 10\n",
    "# print(num > 15)\n",
    "print(num.__gt__(15)) # greater than\n",
    "print(num.__lt__(15))\n",
    "print(num.__le__(15))\n",
    "print(num.__ge__(15))"
   ]
  },
  {
   "cell_type": "code",
   "execution_count": 1,
   "id": "bba6dea2",
   "metadata": {},
   "outputs": [
    {
     "name": "stdout",
     "output_type": "stream",
     "text": [
      "140000\n",
      "5000\n"
     ]
    }
   ],
   "source": [
    "# constructor -> a place where the memories are created\n",
    "# will be called automatically when we instantiate a class (object creation)\n",
    "\n",
    "class Item:\n",
    "    def __init__(self, name, price, quantity):\n",
    "#         print('constructor', id(self))\n",
    "        self.name = name\n",
    "        self.price = price\n",
    "        self.quantity = quantity\n",
    "        \n",
    "    def calculate_total_price(self):\n",
    "        return self.price * self.quantity\n",
    "    \n",
    "Iphone = Item('Iphone 15', 70000, 2)\n",
    "# print(Iphone.__dict__)\n",
    "print(Iphone.calculate_total_price())\n",
    "Charger = Item('Iphone charger', 5000, 1)\n",
    "# print(Charger.__dict__)\n",
    "print(Charger.calculate_total_price())"
   ]
  },
  {
   "cell_type": "code",
   "execution_count": 60,
   "id": "d588c58b",
   "metadata": {},
   "outputs": [
    {
     "name": "stdout",
     "output_type": "stream",
     "text": [
      "{'name': 'Iphone 15', 'price': 70000, 'quantity': 1}\n"
     ]
    }
   ],
   "source": [
    "class Item:\n",
    "    def __init__(self, name, price = 0, quantity = 1):\n",
    "        self.name = name\n",
    "        self.price = price\n",
    "        self.quantity = quantity\n",
    "        \n",
    "    def calculate_total_price(self):\n",
    "        return self.price * self.quantity\n",
    "    \n",
    "Iphone = Item('Iphone 15', 70000)\n",
    "print(Iphone.__dict__)"
   ]
  },
  {
   "cell_type": "code",
   "execution_count": 73,
   "id": "c302ae23",
   "metadata": {},
   "outputs": [
    {
     "name": "stdout",
     "output_type": "stream",
     "text": [
      "{'name': 'Iphone 15', 'price': 70000, 'quantity': 2}\n"
     ]
    }
   ],
   "source": [
    "class Item:\n",
    "    def __init__(self, name, price = 0, quantity = 1):\n",
    "        assert price >= 0, f'price {price} should be greater than or equal to 0'\n",
    "        assert quantity > 0, f'quantity {quantity} should be greater than 0'\n",
    "        \n",
    "        self.name = name\n",
    "        self.price = price\n",
    "        self.quantity = quantity\n",
    "        \n",
    "    def calculate_total_price(self):\n",
    "        return self.price * self.quantity\n",
    "    \n",
    "Iphone = Item('Iphone 15', 70000, 2)\n",
    "print(Iphone.__dict__)"
   ]
  },
  {
   "cell_type": "code",
   "execution_count": 76,
   "id": "779035e4",
   "metadata": {},
   "outputs": [
    {
     "name": "stdout",
     "output_type": "stream",
     "text": [
      "{'name': 'Iphone 15', 'price': 70000, 'quantity': 2, 'is_backcase': False}\n",
      "{'name': 'moto G64', 'price': 15000, 'quantity': 1, 'is_backcase': True}\n",
      "{'name': 'tomato', 'price': 15, 'quantity': 1, 'is_backcase': False}\n"
     ]
    }
   ],
   "source": [
    "# wrong code\n",
    "class Item:\n",
    "    def __init__(self, name, price = 0, quantity = 1, is_backcase = False):\n",
    "        assert price >= 0, f'price {price} should be greater than or equal to 0'\n",
    "        assert quantity > 0, f'quantity {quantity} should be greater than 0'\n",
    "        \n",
    "        self.name = name\n",
    "        self.price = price\n",
    "        self.quantity = quantity\n",
    "        self.is_backcase = is_backcase\n",
    "        \n",
    "    def calculate_total_price(self):\n",
    "        return self.price * self.quantity\n",
    "    \n",
    "Iphone = Item('Iphone 15', 70000, 2)\n",
    "print(Iphone.__dict__)\n",
    "\n",
    "motog64 = Item(\"moto G64\", 15000, 1, True)\n",
    "print(motog64.__dict__)\n",
    "\n",
    "tomato = Item('tomato', 15, 1)\n",
    "print(tomato.__dict__)"
   ]
  },
  {
   "cell_type": "code",
   "execution_count": 82,
   "id": "67c818b5",
   "metadata": {},
   "outputs": [
    {
     "name": "stdout",
     "output_type": "stream",
     "text": [
      "{'name': 'Iphone 15', 'price': 70000, 'quantity': 2, 'is_backcase': 10}\n",
      "{'name': 'moto G64', 'price': 15000, 'quantity': 1, 'is_backcase': True}\n",
      "{'name': 'tomato', 'price': 15, 'quantity': 1}\n"
     ]
    }
   ],
   "source": [
    "class Item:\n",
    "    def __init__(self, name, price = 0, quantity = 1):\n",
    "        assert price >= 0, f'price {price} should be greater than or equal to 0'\n",
    "        assert quantity > 0, f'quantity {quantity} should be greater than 0'\n",
    "        \n",
    "        self.name = name\n",
    "        self.price = price\n",
    "        self.quantity = quantity\n",
    "        \n",
    "    def calculate_total_price(self):\n",
    "        return self.price * self.quantity\n",
    "    \n",
    "Iphone = Item('Iphone 15', 70000, 2)\n",
    "Iphone.is_backcase = False\n",
    "print(Iphone.__dict__)\n",
    "\n",
    "motog64 = Item(\"moto G64\", 15000, 1)\n",
    "motog64.is_backcase = True\n",
    "print(motog64.__dict__)\n",
    "\n",
    "tomato = Item('tomato', 15, 1)\n",
    "print(tomato.__dict__)"
   ]
  },
  {
   "cell_type": "code",
   "execution_count": 93,
   "id": "8d1a0833",
   "metadata": {},
   "outputs": [
    {
     "name": "stdout",
     "output_type": "stream",
     "text": [
      "56000.0\n"
     ]
    }
   ],
   "source": [
    "class Item:\n",
    "    # class property -> static property by default -> common for all objects\n",
    "    # self/object property will override class property. If self property is not available, by default \n",
    "    # it refers class property\n",
    "\n",
    "    discount = 0.2\n",
    "    \n",
    "    def __init__(self, name, price = 0, quantity = 1):\n",
    "        assert price >= 0, f'price {price} should be greater than or equal to 0'\n",
    "        assert quantity > 0, f'quantity {quantity} should be greater than 0'\n",
    "        \n",
    "        self.name = name\n",
    "        self.price = price\n",
    "        self.quantity = quantity\n",
    "        \n",
    "    def calculate_total_price(self):\n",
    "        return self.price * self.quantity\n",
    "    \n",
    "    def apply_discount(self):\n",
    "        # object property\n",
    "        self.price = self.price - (self.discount * self.price)\n",
    "       \n",
    "        \n",
    "Iphone = Item('Iphone 15', 70000, 1)\n",
    "Iphone.apply_discount()\n",
    "print(Iphone.calculate_total_price())\n",
    "\n",
    "# Charger = Item('Iphone charger', 5000, 1)\n",
    "# Charger.discount = 0.5\n",
    "# Charger.apply_discount()\n",
    "# print(Charger.calculate_total_price())"
   ]
  },
  {
   "cell_type": "code",
   "execution_count": 107,
   "id": "78564a3b",
   "metadata": {},
   "outputs": [
    {
     "ename": "AttributeError",
     "evalue": "'ATM' object has no attribute 'validate'",
     "output_type": "error",
     "traceback": [
      "\u001b[0;31m---------------------------------------------------------------------------\u001b[0m",
      "\u001b[0;31mAttributeError\u001b[0m                            Traceback (most recent call last)",
      "Cell \u001b[0;32mIn[107], line 21\u001b[0m\n\u001b[1;32m     19\u001b[0m Amit \u001b[38;5;241m=\u001b[39m ATM(\u001b[38;5;124m'\u001b[39m\u001b[38;5;124mAmit\u001b[39m\u001b[38;5;124m'\u001b[39m, \u001b[38;5;124m'\u001b[39m\u001b[38;5;124m6789\u001b[39m\u001b[38;5;124m'\u001b[39m)\n\u001b[1;32m     20\u001b[0m \u001b[38;5;66;03m# print(Amit.__original_username, Amit.__original_password)\u001b[39;00m\n\u001b[0;32m---> 21\u001b[0m \u001b[38;5;28mprint\u001b[39m(Amit\u001b[38;5;241m.\u001b[39mvalidate())\n",
      "\u001b[0;31mAttributeError\u001b[0m: 'ATM' object has no attribute 'validate'"
     ]
    }
   ],
   "source": [
    "# ATM\n",
    "class ATM:\n",
    "    # public -> private --> add __property_name\n",
    "    __original_username = 'Aruna'\n",
    "    __original_password = '1234'\n",
    "    \n",
    "    def __init__(self, username, password):\n",
    "        self.username = username\n",
    "        self.password = password\n",
    "        \n",
    "    def __validate(self):\n",
    "        if(self.username == ATM.__original_username and self.password == ATM.__original_password):\n",
    "            return True\n",
    "        return False\n",
    "\n",
    "# Aruna = ATM('Aruna', '1234')\n",
    "# print(Aruna.validate())\n",
    "\n",
    "# Amit = ATM('Amit', '6789')\n",
    "# print(Amit.__original_username, Amit.__original_password)\n",
    "# print(Amit.__validate())"
   ]
  },
  {
   "cell_type": "code",
   "execution_count": 120,
   "id": "5d86f8bb",
   "metadata": {},
   "outputs": [
    {
     "name": "stdout",
     "output_type": "stream",
     "text": [
      "Aruna\n",
      "Username modifed successfully\n",
      "Aruna Kumbhar\n",
      "Unauthorised\n",
      "Unauthorised\n",
      "Unauthorised\n"
     ]
    }
   ],
   "source": [
    "# Encapsulation\n",
    "\n",
    "class ATM:\n",
    "    # public -> private --> add __property_name\n",
    "    __original_username = 'Aruna'\n",
    "    __original_password = '1234'\n",
    "    \n",
    "    def __init__(self, username, password):\n",
    "        self.username = username\n",
    "        self.password = password\n",
    "        \n",
    "    def validate(self):\n",
    "        if(self.username == self.__original_username and self.password == self.__original_password):\n",
    "            return True\n",
    "        return False\n",
    "    \n",
    "    # getters\n",
    "    def get_original_username(self):\n",
    "        if(self.validate()):\n",
    "            return self.__original_username\n",
    "        return 'Unauthorised'\n",
    "    \n",
    "    def get_original_password(self):\n",
    "        if(self.validate()):\n",
    "            return self.__original_password\n",
    "        return 'Unauthorised'\n",
    "    \n",
    "    # setters\n",
    "    def set_original_username(self, new_username):\n",
    "        if(self.validate()):\n",
    "            self.__original_username = new_username\n",
    "            self.username = new_username\n",
    "            return 'Username modifed successfully'\n",
    "        else:\n",
    "            return 'Unauthorised'\n",
    "    \n",
    "\n",
    "Aruna = ATM('Aruna', '1234')\n",
    "print(Aruna.get_original_username())\n",
    "# print(Aruna.get_original_password())\n",
    "print(Aruna.set_original_username('Aruna Kumbhar'))\n",
    "print(Aruna.get_original_username())\n",
    "# print(Aruna.validate())\n",
    "\n",
    "Amit = ATM('Amit', '6789')\n",
    "print(Amit.get_original_username())\n",
    "print(Amit.get_original_password())\n",
    "print(Amit.set_original_username('Amit'))"
   ]
  },
  {
   "cell_type": "code",
   "execution_count": null,
   "id": "db4817b3",
   "metadata": {},
   "outputs": [],
   "source": []
  },
  {
   "cell_type": "code",
   "execution_count": null,
   "id": "adb0c51e",
   "metadata": {},
   "outputs": [],
   "source": []
  },
  {
   "cell_type": "code",
   "execution_count": null,
   "id": "46e86943",
   "metadata": {},
   "outputs": [],
   "source": []
  },
  {
   "cell_type": "code",
   "execution_count": null,
   "id": "55ff7984",
   "metadata": {},
   "outputs": [],
   "source": []
  },
  {
   "cell_type": "code",
   "execution_count": null,
   "id": "93bc0824",
   "metadata": {},
   "outputs": [],
   "source": []
  },
  {
   "cell_type": "code",
   "execution_count": null,
   "id": "9e4dd99b",
   "metadata": {},
   "outputs": [],
   "source": []
  },
  {
   "cell_type": "code",
   "execution_count": null,
   "id": "4935384a",
   "metadata": {},
   "outputs": [],
   "source": []
  },
  {
   "cell_type": "code",
   "execution_count": null,
   "id": "e5e19602",
   "metadata": {},
   "outputs": [],
   "source": []
  },
  {
   "cell_type": "code",
   "execution_count": null,
   "id": "006c4209",
   "metadata": {},
   "outputs": [],
   "source": []
  },
  {
   "cell_type": "code",
   "execution_count": null,
   "id": "7273f541",
   "metadata": {},
   "outputs": [],
   "source": []
  }
 ],
 "metadata": {
  "kernelspec": {
   "display_name": "Python 3 (ipykernel)",
   "language": "python",
   "name": "python3"
  },
  "language_info": {
   "codemirror_mode": {
    "name": "ipython",
    "version": 3
   },
   "file_extension": ".py",
   "mimetype": "text/x-python",
   "name": "python",
   "nbconvert_exporter": "python",
   "pygments_lexer": "ipython3",
   "version": "3.11.5"
  }
 },
 "nbformat": 4,
 "nbformat_minor": 5
}
